{
 "cells": [
  {
   "cell_type": "markdown",
   "metadata": {},
   "source": [
    "## TF-IDF based Summarization"
   ]
  },
  {
   "cell_type": "code",
   "execution_count": 14,
   "metadata": {},
   "outputs": [],
   "source": [
    "from sklearn.feature_extraction.text import TfidfVectorizer\n",
    "from nltk.tokenize import sent_tokenize, word_tokenize\n",
    "import os\n",
    "module_path = os.path.abspath(os.path.join('..'))\n",
    "if module_path not in sys.path:\n",
    "    sys.path.append(module_path)"
   ]
  },
  {
   "cell_type": "code",
   "execution_count": 68,
   "metadata": {},
   "outputs": [],
   "source": [
    "def get_tfidf_matrix(text, stopwords=None):\n",
    "    sts = sent_tokenize(text)\n",
    "    vectorizer = TfidfVectorizer(stop_words=stopwords)\n",
    "    vectors = vectorizer.fit_transform(sts)\n",
    "    feature_names = vectorizer.get_feature_names()\n",
    "    tfidf = vectorizer._tfidf.idf_\n",
    "    return dict(zip(vectorizer.get_feature_names(), tfidf))"
   ]
  },
  {
   "cell_type": "code",
   "execution_count": 69,
   "metadata": {},
   "outputs": [],
   "source": [
    "text = 'Uruganda rukora telefone rwo mu Bushinwa, Huawei rwashyize hanze telefone nshya ziswe P40 nubwo isi ikomeje guhangana n’icyorezo cya coronavirus.\\nUruganda rukora telefone rwo mu Bushinwa, Huawei rwashyize hanze telefone nshya ziswe P40 nubwo isi ikomeje guhangana n’icyorezo cya coronavirus.\\nIzi telefone zishyizwe hanze nyuma y’umunsi umwe urwo ruganda rutangaje ko 90\\xa0% by’abakozi barwo 150 000 hirya no hino mu Bushinwa, bagarutse ku mirimo nyuma y’igihe bari mu ngo kubera coronavirus.\\nInzobere zigaragaza ko nubwo Huawei yashyize hanze izo telefone, zishobora kutagurwa cyane kuko zije mu gihe ubukungu bitifashe neza kubera coronavirus.\\nUbwoko bushya bwa telefone za Huawei ntabwo burimo porogaramu za Google nka Youtube, Amakarita na Play Store kubera ko Leta Zunze Ubumwe za Amerika zabujije sosiyete zo muri icyo gihugu gukorana n’izo mu Bushinwa mu bucuruzi.\\nHuawei iracyari sosiyete ya kabiri igurisha telefone nyinshi ku isi nyuma ya Samsung. Huawei yari yiyemeje kuvana Samsung kuri uwo mwanya bitarenze 2019 ariko ntibyayikundiye.\\nTelefone za P40 zasohowe zirimo ubwoko butatu burimo P40 iringaniye, P40 pro na P40 pro+. Izo ebyiri za nyuma zifite uburebure bwa santimetero zigera kuri 16, bikaba bizigira nini kurusha iPhone 11 Pro Max ya Apple.\\nUbwo bwoko bwose bwa telefone bukoresha internet ya 5G. P40 iringaniye ifite camera eshatu, na zoom ya 3x ituma umuntu ashobora gukurura ikintu kiri kure ifoto ntite ireme.\\nP40 Pro yo ifite zoom ya 5x ituma ifata amashusho akeye mu gihe Pro+ ifite zoom ya 10x.\\nMu zindi porogaramu ziri muri izo telefone harimo TikTok, Telegram, Viber na Microsoft Office. Uretse porogaramu za Google, telefone za P40 ntizirimo Twitter, Facebook na WhatsApp.\\nHuawei yashyizemo indi porogaramu isimbura YouTube yiswe Huawei video. Iyi sosiyete kandi yasinye amasezerano na BBC yo kujya ihabwa video zayo.\\nTelefone za P40 na P40 Pro zizashyirwa ku isoko tariki 7 Mata, iya mbere ikazaba igura amadolari 890 naho iya kabiri igura amadolari 1100. Telefone za P40 Pro+ zo zizajya ku isoko muri Kamena zigura amadolari 1540.\\n'"
   ]
  },
  {
   "cell_type": "code",
   "execution_count": 70,
   "metadata": {},
   "outputs": [
    {
     "data": {
      "text/plain": [
       "['Uruganda rukora telefone rwo mu Bushinwa, Huawei rwashyize hanze telefone nshya ziswe P40 nubwo isi ikomeje guhangana n’icyorezo cya coronavirus.',\n",
       " 'Uruganda rukora telefone rwo mu Bushinwa, Huawei rwashyize hanze telefone nshya ziswe P40 nubwo isi ikomeje guhangana n’icyorezo cya coronavirus.',\n",
       " 'Izi telefone zishyizwe hanze nyuma y’umunsi umwe urwo ruganda rutangaje ko 90\\xa0% by’abakozi barwo 150 000 hirya no hino mu Bushinwa, bagarutse ku mirimo nyuma y’igihe bari mu ngo kubera coronavirus.',\n",
       " 'Inzobere zigaragaza ko nubwo Huawei yashyize hanze izo telefone, zishobora kutagurwa cyane kuko zije mu gihe ubukungu bitifashe neza kubera coronavirus.',\n",
       " 'Ubwoko bushya bwa telefone za Huawei ntabwo burimo porogaramu za Google nka Youtube, Amakarita na Play Store kubera ko Leta Zunze Ubumwe za Amerika zabujije sosiyete zo muri icyo gihugu gukorana n’izo mu Bushinwa mu bucuruzi.',\n",
       " 'Huawei iracyari sosiyete ya kabiri igurisha telefone nyinshi ku isi nyuma ya Samsung.',\n",
       " 'Huawei yari yiyemeje kuvana Samsung kuri uwo mwanya bitarenze 2019 ariko ntibyayikundiye.',\n",
       " 'Telefone za P40 zasohowe zirimo ubwoko butatu burimo P40 iringaniye, P40 pro na P40 pro+.',\n",
       " 'Izo ebyiri za nyuma zifite uburebure bwa santimetero zigera kuri 16, bikaba bizigira nini kurusha iPhone 11 Pro Max ya Apple.',\n",
       " 'Ubwo bwoko bwose bwa telefone bukoresha internet ya 5G.',\n",
       " 'P40 iringaniye ifite camera eshatu, na zoom ya 3x ituma umuntu ashobora gukurura ikintu kiri kure ifoto ntite ireme.',\n",
       " 'P40 Pro yo ifite zoom ya 5x ituma ifata amashusho akeye mu gihe Pro+ ifite zoom ya 10x.',\n",
       " 'Mu zindi porogaramu ziri muri izo telefone harimo TikTok, Telegram, Viber na Microsoft Office.',\n",
       " 'Uretse porogaramu za Google, telefone za P40 ntizirimo Twitter, Facebook na WhatsApp.',\n",
       " 'Huawei yashyizemo indi porogaramu isimbura YouTube yiswe Huawei video.',\n",
       " 'Iyi sosiyete kandi yasinye amasezerano na BBC yo kujya ihabwa video zayo.',\n",
       " 'Telefone za P40 na P40 Pro zizashyirwa ku isoko tariki 7 Mata, iya mbere ikazaba igura amadolari 890 naho iya kabiri igura amadolari 1100.',\n",
       " 'Telefone za P40 Pro+ zo zizajya ku isoko muri Kamena zigura amadolari 1540.']"
      ]
     },
     "execution_count": 70,
     "metadata": {},
     "output_type": "execute_result"
    }
   ],
   "source": [
    "sent_tokenize(text)"
   ]
  },
  {
   "cell_type": "code",
   "execution_count": 71,
   "metadata": {},
   "outputs": [],
   "source": [
    "from lib.stopwords import STOPWORDS"
   ]
  },
  {
   "cell_type": "code",
   "execution_count": 73,
   "metadata": {},
   "outputs": [
    {
     "data": {
      "text/plain": [
       "dict"
      ]
     },
     "execution_count": 73,
     "metadata": {},
     "output_type": "execute_result"
    }
   ],
   "source": [
    "type(get_tfidf_matrix(text, STOPWORDS))"
   ]
  },
  {
   "cell_type": "code",
   "execution_count": null,
   "metadata": {},
   "outputs": [],
   "source": [
    "def score_sentences(tfidf_mx):\n",
    "    "
   ]
  }
 ],
 "metadata": {
  "kernelspec": {
   "display_name": "Python 3",
   "language": "python",
   "name": "python3"
  },
  "language_info": {
   "codemirror_mode": {
    "name": "ipython",
    "version": 3
   },
   "file_extension": ".py",
   "mimetype": "text/x-python",
   "name": "python",
   "nbconvert_exporter": "python",
   "pygments_lexer": "ipython3",
   "version": "3.7.6"
  }
 },
 "nbformat": 4,
 "nbformat_minor": 4
}
