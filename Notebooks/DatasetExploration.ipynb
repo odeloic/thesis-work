{
 "cells": [
  {
   "cell_type": "markdown",
   "metadata": {},
   "source": [
    "# Data Exploration on the dataset"
   ]
  },
  {
   "cell_type": "code",
   "execution_count": 3,
   "metadata": {},
   "outputs": [],
   "source": [
    "import pandas as pd\n",
    "import os, sys\n",
    "module_path = os.path.abspath(os.path.join('..'))\n",
    "if module_path not in sys.path:\n",
    "    sys.path.append(module_path)"
   ]
  },
  {
   "cell_type": "markdown",
   "metadata": {},
   "source": [
    "## import the dataset"
   ]
  },
  {
   "cell_type": "code",
   "execution_count": 4,
   "metadata": {},
   "outputs": [],
   "source": [
    "df = pd.read_csv('../Data/amakuru.csv')"
   ]
  },
  {
   "cell_type": "code",
   "execution_count": 5,
   "metadata": {},
   "outputs": [
    {
     "data": {
      "text/plain": [
       "(3182, 4)"
      ]
     },
     "execution_count": 5,
     "metadata": {},
     "output_type": "execute_result"
    }
   ],
   "source": [
    "df.shape"
   ]
  },
  {
   "cell_type": "markdown",
   "metadata": {},
   "source": [
    "## Remove duplicates and null elements"
   ]
  },
  {
   "cell_type": "code",
   "execution_count": 8,
   "metadata": {},
   "outputs": [],
   "source": [
    "df = df.drop_duplicates(subset=\"Title\", keep=\"first\")\n",
    "df = df.dropna(subset=['Category'])\n",
    "df.dropna(subset=['Body'], inplace = True)"
   ]
  },
  {
   "cell_type": "code",
   "execution_count": 9,
   "metadata": {},
   "outputs": [
    {
     "data": {
      "text/plain": [
       "(1888, 4)"
      ]
     },
     "execution_count": 9,
     "metadata": {},
     "output_type": "execute_result"
    }
   ],
   "source": [
    "df.head()\n",
    "df.shape"
   ]
  },
  {
   "cell_type": "markdown",
   "metadata": {},
   "source": [
    "## Remove articles less than 50 characters"
   ]
  },
  {
   "cell_type": "code",
   "execution_count": 10,
   "metadata": {},
   "outputs": [
    {
     "data": {
      "text/plain": [
       "(1881, 5)"
      ]
     },
     "execution_count": 10,
     "metadata": {},
     "output_type": "execute_result"
    }
   ],
   "source": [
    "df['Length'] = df.Body.str.len()\n",
    "df = df[(df.Length > 50)]\n",
    "df.shape"
   ]
  },
  {
   "cell_type": "code",
   "execution_count": 11,
   "metadata": {},
   "outputs": [
    {
     "data": {
      "text/html": [
       "<div>\n",
       "<style scoped>\n",
       "    .dataframe tbody tr th:only-of-type {\n",
       "        vertical-align: middle;\n",
       "    }\n",
       "\n",
       "    .dataframe tbody tr th {\n",
       "        vertical-align: top;\n",
       "    }\n",
       "\n",
       "    .dataframe thead th {\n",
       "        text-align: right;\n",
       "    }\n",
       "</style>\n",
       "<table border=\"1\" class=\"dataframe\">\n",
       "  <thead>\n",
       "    <tr style=\"text-align: right;\">\n",
       "      <th></th>\n",
       "      <th>Title</th>\n",
       "      <th>Body</th>\n",
       "      <th>Url</th>\n",
       "      <th>Category</th>\n",
       "      <th>Length</th>\n",
       "    </tr>\n",
       "  </thead>\n",
       "  <tbody>\n",
       "    <tr>\n",
       "      <th>0</th>\n",
       "      <td>Ubushakashatsi bwagaragaje uburyo bushya bwo k...</td>\n",
       "      <td>Abashakashatsi bagaragaje ko agakoko gatera ig...</td>\n",
       "      <td>https://m.igihe.com/ikoranabuhanga/article/ubu...</td>\n",
       "      <td>Tech</td>\n",
       "      <td>1498</td>\n",
       "    </tr>\n",
       "    <tr>\n",
       "      <th>1</th>\n",
       "      <td>Tuuza bundle, ipaki ya internet yakwifashishwa...</td>\n",
       "      <td>Sositeye y’Itumanaho ya MTN Rwanda izwiho cyan...</td>\n",
       "      <td>https://m.igihe.com/ikoranabuhanga/internet/ar...</td>\n",
       "      <td>Tech</td>\n",
       "      <td>1512</td>\n",
       "    </tr>\n",
       "    <tr>\n",
       "      <th>2</th>\n",
       "      <td>Impamvu ‘Zoom’ yanikiye izindi porogaramu zifa...</td>\n",
       "      <td>Mu buryo busanzwe, iyo abantu bavuze urubuga n...</td>\n",
       "      <td>https://m.igihe.com/ikoranabuhanga/internet/ar...</td>\n",
       "      <td>Tech</td>\n",
       "      <td>3672</td>\n",
       "    </tr>\n",
       "    <tr>\n",
       "      <th>3</th>\n",
       "      <td>Huawei yashyize hanze telefone nshya za P40</td>\n",
       "      <td>Uruganda rukora telefone rwo mu Bushinwa, Huaw...</td>\n",
       "      <td>https://m.igihe.com/ikoranabuhanga/article/hua...</td>\n",
       "      <td>Tech</td>\n",
       "      <td>2063</td>\n",
       "    </tr>\n",
       "    <tr>\n",
       "      <th>4</th>\n",
       "      <td>U Rwanda ku rutonde rw’ibihugu Apple yaguriyem...</td>\n",
       "      <td>Uruganda rukora ibikoresho by’Ikoranabuhanga r...</td>\n",
       "      <td>https://m.igihe.com/ikoranabuhanga/article/u-r...</td>\n",
       "      <td>Tech</td>\n",
       "      <td>2391</td>\n",
       "    </tr>\n",
       "  </tbody>\n",
       "</table>\n",
       "</div>"
      ],
      "text/plain": [
       "                                               Title  \\\n",
       "0  Ubushakashatsi bwagaragaje uburyo bushya bwo k...   \n",
       "1  Tuuza bundle, ipaki ya internet yakwifashishwa...   \n",
       "2  Impamvu ‘Zoom’ yanikiye izindi porogaramu zifa...   \n",
       "3        Huawei yashyize hanze telefone nshya za P40   \n",
       "4  U Rwanda ku rutonde rw’ibihugu Apple yaguriyem...   \n",
       "\n",
       "                                                Body  \\\n",
       "0  Abashakashatsi bagaragaje ko agakoko gatera ig...   \n",
       "1  Sositeye y’Itumanaho ya MTN Rwanda izwiho cyan...   \n",
       "2  Mu buryo busanzwe, iyo abantu bavuze urubuga n...   \n",
       "3  Uruganda rukora telefone rwo mu Bushinwa, Huaw...   \n",
       "4  Uruganda rukora ibikoresho by’Ikoranabuhanga r...   \n",
       "\n",
       "                                                 Url Category  Length  \n",
       "0  https://m.igihe.com/ikoranabuhanga/article/ubu...     Tech    1498  \n",
       "1  https://m.igihe.com/ikoranabuhanga/internet/ar...     Tech    1512  \n",
       "2  https://m.igihe.com/ikoranabuhanga/internet/ar...     Tech    3672  \n",
       "3  https://m.igihe.com/ikoranabuhanga/article/hua...     Tech    2063  \n",
       "4  https://m.igihe.com/ikoranabuhanga/article/u-r...     Tech    2391  "
      ]
     },
     "execution_count": 11,
     "metadata": {},
     "output_type": "execute_result"
    }
   ],
   "source": [
    "df.head()"
   ]
  },
  {
   "cell_type": "code",
   "execution_count": 12,
   "metadata": {},
   "outputs": [
    {
     "name": "stdout",
     "output_type": "stream",
     "text": [
      "mean: 2837.7017543859647\n",
      "max: 24051\n",
      "min: 69\n"
     ]
    },
    {
     "data": {
      "image/png": "[encoded data removed]",
      "text/plain": [
       "<Figure size 432x288 with 1 Axes>"
      ]
     },
     "metadata": {
      "needs_background": "light"
     },
     "output_type": "display_data"
    }
   ],
   "source": [
    "import seaborn as sns\n",
    "sns.distplot(df.Length)\n",
    "print(f'mean: {df.Length.mean()}')\n",
    "print(f'max: {df.Length.max()}')\n",
    "print(f'min: {df.Length.min()}')"
   ]
  },
  {
   "cell_type": "code",
   "execution_count": 13,
   "metadata": {},
   "outputs": [
    {
     "data": {
      "text/html": [
       "<div>\n",
       "<style scoped>\n",
       "    .dataframe tbody tr th:only-of-type {\n",
       "        vertical-align: middle;\n",
       "    }\n",
       "\n",
       "    .dataframe tbody tr th {\n",
       "        vertical-align: top;\n",
       "    }\n",
       "\n",
       "    .dataframe thead th {\n",
       "        text-align: right;\n",
       "    }\n",
       "</style>\n",
       "<table border=\"1\" class=\"dataframe\">\n",
       "  <thead>\n",
       "    <tr style=\"text-align: right;\">\n",
       "      <th></th>\n",
       "      <th>Title</th>\n",
       "      <th>Body</th>\n",
       "      <th>Url</th>\n",
       "      <th>Category</th>\n",
       "      <th>Length</th>\n",
       "    </tr>\n",
       "  </thead>\n",
       "  <tbody>\n",
       "    <tr>\n",
       "      <th>0</th>\n",
       "      <td>Ubushakashatsi bwagaragaje uburyo bushya bwo k...</td>\n",
       "      <td>Abashakashatsi bagaragaje ko agakoko gatera ig...</td>\n",
       "      <td>https://m.igihe.com/ikoranabuhanga/article/ubu...</td>\n",
       "      <td>Tech</td>\n",
       "      <td>1498</td>\n",
       "    </tr>\n",
       "    <tr>\n",
       "      <th>1</th>\n",
       "      <td>Tuuza bundle, ipaki ya internet yakwifashishwa...</td>\n",
       "      <td>Sositeye y’Itumanaho ya MTN Rwanda izwiho cyan...</td>\n",
       "      <td>https://m.igihe.com/ikoranabuhanga/internet/ar...</td>\n",
       "      <td>Tech</td>\n",
       "      <td>1512</td>\n",
       "    </tr>\n",
       "    <tr>\n",
       "      <th>2</th>\n",
       "      <td>Impamvu ‘Zoom’ yanikiye izindi porogaramu zifa...</td>\n",
       "      <td>Mu buryo busanzwe, iyo abantu bavuze urubuga n...</td>\n",
       "      <td>https://m.igihe.com/ikoranabuhanga/internet/ar...</td>\n",
       "      <td>Tech</td>\n",
       "      <td>3672</td>\n",
       "    </tr>\n",
       "    <tr>\n",
       "      <th>3</th>\n",
       "      <td>Huawei yashyize hanze telefone nshya za P40</td>\n",
       "      <td>Uruganda rukora telefone rwo mu Bushinwa, Huaw...</td>\n",
       "      <td>https://m.igihe.com/ikoranabuhanga/article/hua...</td>\n",
       "      <td>Tech</td>\n",
       "      <td>2063</td>\n",
       "    </tr>\n",
       "    <tr>\n",
       "      <th>4</th>\n",
       "      <td>U Rwanda ku rutonde rw’ibihugu Apple yaguriyem...</td>\n",
       "      <td>Uruganda rukora ibikoresho by’Ikoranabuhanga r...</td>\n",
       "      <td>https://m.igihe.com/ikoranabuhanga/article/u-r...</td>\n",
       "      <td>Tech</td>\n",
       "      <td>2391</td>\n",
       "    </tr>\n",
       "    <tr>\n",
       "      <th>5</th>\n",
       "      <td>Apple yafunze amaduka yayo yose ku isi uretse ...</td>\n",
       "      <td>Uruganda rukora telefone n’ibindi bikoresho by...</td>\n",
       "      <td>https://m.igihe.com/ikoranabuhanga/article/app...</td>\n",
       "      <td>Tech</td>\n",
       "      <td>1769</td>\n",
       "    </tr>\n",
       "  </tbody>\n",
       "</table>\n",
       "</div>"
      ],
      "text/plain": [
       "                                               Title  \\\n",
       "0  Ubushakashatsi bwagaragaje uburyo bushya bwo k...   \n",
       "1  Tuuza bundle, ipaki ya internet yakwifashishwa...   \n",
       "2  Impamvu ‘Zoom’ yanikiye izindi porogaramu zifa...   \n",
       "3        Huawei yashyize hanze telefone nshya za P40   \n",
       "4  U Rwanda ku rutonde rw’ibihugu Apple yaguriyem...   \n",
       "5  Apple yafunze amaduka yayo yose ku isi uretse ...   \n",
       "\n",
       "                                                Body  \\\n",
       "0  Abashakashatsi bagaragaje ko agakoko gatera ig...   \n",
       "1  Sositeye y’Itumanaho ya MTN Rwanda izwiho cyan...   \n",
       "2  Mu buryo busanzwe, iyo abantu bavuze urubuga n...   \n",
       "3  Uruganda rukora telefone rwo mu Bushinwa, Huaw...   \n",
       "4  Uruganda rukora ibikoresho by’Ikoranabuhanga r...   \n",
       "5  Uruganda rukora telefone n’ibindi bikoresho by...   \n",
       "\n",
       "                                                 Url Category  Length  \n",
       "0  https://m.igihe.com/ikoranabuhanga/article/ubu...     Tech    1498  \n",
       "1  https://m.igihe.com/ikoranabuhanga/internet/ar...     Tech    1512  \n",
       "2  https://m.igihe.com/ikoranabuhanga/internet/ar...     Tech    3672  \n",
       "3  https://m.igihe.com/ikoranabuhanga/article/hua...     Tech    2063  \n",
       "4  https://m.igihe.com/ikoranabuhanga/article/u-r...     Tech    2391  \n",
       "5  https://m.igihe.com/ikoranabuhanga/article/app...     Tech    1769  "
      ]
     },
     "execution_count": 13,
     "metadata": {},
     "output_type": "execute_result"
    }
   ],
   "source": [
    "df.loc[:5]"
   ]
  }
 ],
 "metadata": {
  "kernelspec": {
   "display_name": "Python 3",
   "language": "python",
   "name": "python3"
  },
  "language_info": {
   "codemirror_mode": {
    "name": "ipython",
    "version": 3
   },
   "file_extension": ".py",
   "mimetype": "text/x-python",
   "name": "python",
   "nbconvert_exporter": "python",
   "pygments_lexer": "ipython3",
   "version": "3.7.6"
  }
 },
 "nbformat": 4,
 "nbformat_minor": 4
}
