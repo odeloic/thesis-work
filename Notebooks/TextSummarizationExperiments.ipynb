{
 "cells": [
  {
   "cell_type": "markdown",
   "metadata": {},
   "source": [
    "# Text summarization\n",
    "## 1. Importing necessary Libraries & Dataset"
   ]
  },
  {
   "cell_type": "code",
   "execution_count": 47,
   "metadata": {},
   "outputs": [],
   "source": [
    "import pandas as pd\n",
    "import os\n",
    "import sys\n",
    "import re\n",
    "import unicodedata\n",
    "import nltk\n",
    "from nltk.tokenize import word_tokenize, sent_tokenize\n",
    "from bs4 import BeautifulSoup\n",
    "import heapq\n",
    "from sklearn.feature_extraction.text import TfidfVectorizer\n",
    "module_path = os.path.abspath(os.path.join('..'))\n",
    "if module_path not in sys.path:\n",
    "    sys.path.append(module_path)"
   ]
  },
  {
   "cell_type": "code",
   "execution_count": 48,
   "metadata": {},
   "outputs": [],
   "source": [
    "df = pd.read_csv('../Data/amakuru.csv')\n"
   ]
  },
  {
   "cell_type": "code",
   "execution_count": 49,
   "metadata": {},
   "outputs": [
    {
     "data": {
      "text/plain": [
       "(3182, 4)"
      ]
     },
     "execution_count": 49,
     "metadata": {},
     "output_type": "execute_result"
    }
   ],
   "source": [
    "df.shape"
   ]
  },
  {
   "cell_type": "code",
   "execution_count": 50,
   "metadata": {},
   "outputs": [
    {
     "data": {
      "text/html": [
       "<div>\n",
       "<style scoped>\n",
       "    .dataframe tbody tr th:only-of-type {\n",
       "        vertical-align: middle;\n",
       "    }\n",
       "\n",
       "    .dataframe tbody tr th {\n",
       "        vertical-align: top;\n",
       "    }\n",
       "\n",
       "    .dataframe thead th {\n",
       "        text-align: right;\n",
       "    }\n",
       "</style>\n",
       "<table border=\"1\" class=\"dataframe\">\n",
       "  <thead>\n",
       "    <tr style=\"text-align: right;\">\n",
       "      <th></th>\n",
       "      <th>Title</th>\n",
       "      <th>Body</th>\n",
       "      <th>Url</th>\n",
       "      <th>Category</th>\n",
       "    </tr>\n",
       "  </thead>\n",
       "  <tbody>\n",
       "    <tr>\n",
       "      <th>0</th>\n",
       "      <td>Ubushakashatsi bwagaragaje uburyo bushya bwo k...</td>\n",
       "      <td>Abashakashatsi bagaragaje ko agakoko gatera ig...</td>\n",
       "      <td>https://m.igihe.com/ikoranabuhanga/article/ubu...</td>\n",
       "      <td>Tech</td>\n",
       "    </tr>\n",
       "    <tr>\n",
       "      <th>1</th>\n",
       "      <td>Tuuza bundle, ipaki ya internet yakwifashishwa...</td>\n",
       "      <td>Sositeye y’Itumanaho ya MTN Rwanda izwiho cyan...</td>\n",
       "      <td>https://m.igihe.com/ikoranabuhanga/internet/ar...</td>\n",
       "      <td>Tech</td>\n",
       "    </tr>\n",
       "    <tr>\n",
       "      <th>2</th>\n",
       "      <td>Impamvu ‘Zoom’ yanikiye izindi porogaramu zifa...</td>\n",
       "      <td>Mu buryo busanzwe, iyo abantu bavuze urubuga n...</td>\n",
       "      <td>https://m.igihe.com/ikoranabuhanga/internet/ar...</td>\n",
       "      <td>Tech</td>\n",
       "    </tr>\n",
       "    <tr>\n",
       "      <th>3</th>\n",
       "      <td>Huawei yashyize hanze telefone nshya za P40</td>\n",
       "      <td>Uruganda rukora telefone rwo mu Bushinwa, Huaw...</td>\n",
       "      <td>https://m.igihe.com/ikoranabuhanga/article/hua...</td>\n",
       "      <td>Tech</td>\n",
       "    </tr>\n",
       "    <tr>\n",
       "      <th>4</th>\n",
       "      <td>U Rwanda ku rutonde rw’ibihugu Apple yaguriyem...</td>\n",
       "      <td>Uruganda rukora ibikoresho by’Ikoranabuhanga r...</td>\n",
       "      <td>https://m.igihe.com/ikoranabuhanga/article/u-r...</td>\n",
       "      <td>Tech</td>\n",
       "    </tr>\n",
       "  </tbody>\n",
       "</table>\n",
       "</div>"
      ],
      "text/plain": [
       "                                               Title  \\\n",
       "0  Ubushakashatsi bwagaragaje uburyo bushya bwo k...   \n",
       "1  Tuuza bundle, ipaki ya internet yakwifashishwa...   \n",
       "2  Impamvu ‘Zoom’ yanikiye izindi porogaramu zifa...   \n",
       "3        Huawei yashyize hanze telefone nshya za P40   \n",
       "4  U Rwanda ku rutonde rw’ibihugu Apple yaguriyem...   \n",
       "\n",
       "                                                Body  \\\n",
       "0  Abashakashatsi bagaragaje ko agakoko gatera ig...   \n",
       "1  Sositeye y’Itumanaho ya MTN Rwanda izwiho cyan...   \n",
       "2  Mu buryo busanzwe, iyo abantu bavuze urubuga n...   \n",
       "3  Uruganda rukora telefone rwo mu Bushinwa, Huaw...   \n",
       "4  Uruganda rukora ibikoresho by’Ikoranabuhanga r...   \n",
       "\n",
       "                                                 Url Category  \n",
       "0  https://m.igihe.com/ikoranabuhanga/article/ubu...     Tech  \n",
       "1  https://m.igihe.com/ikoranabuhanga/internet/ar...     Tech  \n",
       "2  https://m.igihe.com/ikoranabuhanga/internet/ar...     Tech  \n",
       "3  https://m.igihe.com/ikoranabuhanga/article/hua...     Tech  \n",
       "4  https://m.igihe.com/ikoranabuhanga/article/u-r...     Tech  "
      ]
     },
     "execution_count": 50,
     "metadata": {},
     "output_type": "execute_result"
    }
   ],
   "source": [
    "df.head()"
   ]
  },
  {
   "cell_type": "code",
   "execution_count": 51,
   "metadata": {},
   "outputs": [],
   "source": [
    "df = df.drop_duplicates(subset=\"Title\", keep=\"first\")"
   ]
  },
  {
   "cell_type": "code",
   "execution_count": 52,
   "metadata": {},
   "outputs": [],
   "source": [
    "df = df.dropna(subset=['Category'])"
   ]
  },
  {
   "cell_type": "markdown",
   "metadata": {},
   "source": [
    "## 2. Get Stopwords list"
   ]
  },
  {
   "cell_type": "code",
   "execution_count": 54,
   "metadata": {},
   "outputs": [],
   "source": [
    "from lib.kinya_norm import normalize_text\n",
    "from lib.helpers import getTopSortedKElements, saveWordsToFile, getStopwordsFromFile\n",
    "corpus = df['Body']\n",
    "corpus_norm = []"
   ]
  },
  {
   "cell_type": "code",
   "execution_count": 8,
   "metadata": {},
   "outputs": [],
   "source": [
    "type(corpus)"
   ]
  },
  {
   "cell_type": "code",
   "execution_count": 55,
   "metadata": {},
   "outputs": [],
   "source": [
    "for article in corpus:\n",
    "    article = normalize_text(article)\n",
    "    corpus_norm.append(article)"
   ]
  },
  {
   "cell_type": "markdown",
   "metadata": {},
   "source": [
    "### 2.1 Create word count vector"
   ]
  },
  {
   "cell_type": "code",
   "execution_count": 56,
   "metadata": {},
   "outputs": [
    {
     "data": {
      "text/plain": [
       "<1888x69417 sparse matrix of type '<class 'numpy.int64'>'\n",
       "\twith 453328 stored elements in Compressed Sparse Row format>"
      ]
     },
     "execution_count": 56,
     "metadata": {},
     "output_type": "execute_result"
    }
   ],
   "source": [
    "# first approach with CountVectorizer\n",
    "from sklearn.feature_extraction.text import CountVectorizer\n",
    "cv = CountVectorizer(tokenizer=word_tokenize)\n",
    "word_count_vector = cv.fit_transform(corpus_norm)\n",
    "word_count_vector"
   ]
  },
  {
   "cell_type": "code",
   "execution_count": 57,
   "metadata": {},
   "outputs": [
    {
     "data": {
      "text/plain": [
       "(1888, 69417)"
      ]
     },
     "execution_count": 57,
     "metadata": {},
     "output_type": "execute_result"
    }
   ],
   "source": [
    "word_count_vector.shape"
   ]
  },
  {
   "cell_type": "markdown",
   "metadata": {},
   "source": [
    "### 2.2 Computer TF-IDF values"
   ]
  },
  {
   "cell_type": "code",
   "execution_count": 58,
   "metadata": {},
   "outputs": [
    {
     "data": {
      "text/plain": [
       "TfidfTransformer(norm='l2', smooth_idf=True, sublinear_tf=False, use_idf=True)"
      ]
     },
     "execution_count": 58,
     "metadata": {},
     "output_type": "execute_result"
    }
   ],
   "source": [
    "from sklearn.feature_extraction.text import TfidfTransformer\n",
    "tfidf_transformer = TfidfTransformer(smooth_idf=True, use_idf=True)\n",
    "tfidf_transformer.fit(word_count_vector)"
   ]
  },
  {
   "cell_type": "code",
   "execution_count": 59,
   "metadata": {},
   "outputs": [],
   "source": [
    "df_idf = pd.DataFrame(tfidf_transformer.idf_, index=cv.get_feature_names(), columns=[\"idf_weights\"])#"
   ]
  },
  {
   "cell_type": "code",
   "execution_count": 60,
   "metadata": {},
   "outputs": [],
   "source": [
    "df_idf = df_idf.sort_values(by=['idf_weights'])"
   ]
  },
  {
   "cell_type": "code",
   "execution_count": 61,
   "metadata": {},
   "outputs": [
    {
     "data": {
      "text/plain": [
       "(69417, 1)"
      ]
     },
     "execution_count": 61,
     "metadata": {},
     "output_type": "execute_result"
    }
   ],
   "source": [
    "df_idf.shape"
   ]
  },
  {
   "cell_type": "markdown",
   "metadata": {},
   "source": [
    "### 2.3 Save lowest IDF-values words to a text file as stopwords"
   ]
  },
  {
   "cell_type": "code",
   "execution_count": 62,
   "metadata": {},
   "outputs": [],
   "source": [
    "idf_values_dict = dict(zip(cv.get_feature_names(), tfidf_transformer.idf_))\n",
    "saveWordsToFile('stopwords_idfvalues.txt', getTopSortedKElements(idf_values_dict, 200))"
   ]
  },
  {
   "cell_type": "code",
   "execution_count": 63,
   "metadata": {},
   "outputs": [],
   "source": [
    "stopwords = getStopwordsFromFile('stopwords_idfvalues.txt')"
   ]
  },
  {
   "cell_type": "code",
   "execution_count": 64,
   "metadata": {},
   "outputs": [
    {
     "data": {
      "text/plain": [
       "['mu', 'na', 'ya', 'wa', 'ko', 'ku', 'muri', 'ni', 'ari', 'ngo']"
      ]
     },
     "execution_count": 64,
     "metadata": {},
     "output_type": "execute_result"
    }
   ],
   "source": [
    "stopwords[:10]"
   ]
  },
  {
   "cell_type": "markdown",
   "metadata": {},
   "source": [
    "## 3 Text summarization\n",
    "### 3.1 Gathering the summarization functions\n",
    "1. `kinyasum.summarize_text_` will be used to summarize texts using word frequency\n",
    "2. `summariza.summariza_tfidf` will summarize texts using tf-idf weights\n",
    "3. `summariza.summariza_textrank` will be used to summarize texts using TextRank"
   ]
  },
  {
   "cell_type": "code",
   "execution_count": 69,
   "metadata": {},
   "outputs": [],
   "source": [
    "from lib.kinyasum import summarize_text_\n",
    "from lib.summariza_tfidf import summariza_tfidf\n",
    "from lib.summariza_textrank import summariza_textrank"
   ]
  },
  {
   "cell_type": "markdown",
   "metadata": {},
   "source": [
    "### 3.2 Getting test articles"
   ]
  },
  {
   "cell_type": "code",
   "execution_count": 70,
   "metadata": {},
   "outputs": [],
   "source": [
    "a1 = df.loc[10]\n",
    "a1_title = a1['Title']\n",
    "a1_body = a1['Body']\n",
    "\n",
    "a2 = df.loc[15]\n",
    "a2_title = a2['Title']\n",
    "a2_body = a2['Body']"
   ]
  },
  {
   "cell_type": "code",
   "execution_count": 71,
   "metadata": {},
   "outputs": [],
   "source": [
    "al_summary_ideal = \"\"\"\n",
    "Alibaba imenyerewe mu bucuruzi bwo kuri internet, yatangije serivisi y’ikoranabuhanga yo gusuzuma uburwayi ku buntu, hagamijwe kugabanya igitutu ku bitaro kirimo guturuka ku ikwirakwira rya virusi ya Coronavirus. Abakoresha iyi serivisi bazajya babasha gusuzumwa banabone amakuru kuri iki cyorezo ku gihe, hirya no hino mu gihugu binyuze ku rubuga rwa Alibaba ruzwi nka Taobao cyangwa kuri application ya telefoni yo kwishyuriraho yitwa Alipay. Kugera Saa Sita z’amanywa zo ku cyumweru, iyi serivisi yari imaze kwakira hafi abantu 400 000, nyuma y’amasaha 24 itangijwe.\n",
    "\"\"\"\n",
    "a2_summary_ideal = \"\"\"\n",
    "Isoko rya telefone zigezweho muri Afurika y’Iburasirazuba (EAC) biteganyijwe ko rizagabanyuka ku kigero cya 12% mu mezi atatu ya mbere ya 2020 na 3% mu mezi atatu azakurikiraho. Ibyo bivuze ko telefone za smartphone zinjira mu karere zizaba nke, igiciro cyazo kikazamuka kubera ibibazo biri mu gutumiza ibikoresho by’ikoranabuhanga bitewe n’icyorezo cya coronavirus. Bagaragaza ko coronavirus ishobora no kugira ingaruka ku gushyira hanze telefone nshya kuko hari bimwe mu bikoresho byifashishwa mu gukora telefone bitari kubasha kugera ku nganda kuko biva hanze y’u Bushinwa.\n",
    "\"\"\""
   ]
  },
  {
   "cell_type": "markdown",
   "metadata": {},
   "source": [
    "### 3.3 Word Frequency Summarization\n",
    "\n",
    "#### Summarization For  Article 1"
   ]
  },
  {
   "cell_type": "code",
   "execution_count": 33,
   "metadata": {
    "scrolled": true
   },
   "outputs": [
    {
     "data": {
      "text/plain": [
       "7"
      ]
     },
     "execution_count": 33,
     "metadata": {},
     "output_type": "execute_result"
    }
   ],
   "source": [
    "len(list(dict.fromkeys(sent_tokenize(a1_body))))"
   ]
  },
  {
   "cell_type": "code",
   "execution_count": 79,
   "metadata": {},
   "outputs": [
    {
     "name": "stdout",
     "output_type": "stream",
     "text": [
      "selected sentences: [0, 5, 1]\n"
     ]
    }
   ],
   "source": [
    "a1_summary_wff = summarize_text_(a1_title, a1_body, 0.5, stopwords, False, False)"
   ]
  },
  {
   "cell_type": "code",
   "execution_count": 80,
   "metadata": {},
   "outputs": [
    {
     "name": "stdout",
     "output_type": "stream",
     "text": [
      "selected sentences: [0, 6, 1]\n"
     ]
    }
   ],
   "source": [
    "a1_summary_wtf = summarize_text_(a1_title, a1_body, 0.5, stopwords, True, False)"
   ]
  },
  {
   "cell_type": "code",
   "execution_count": 81,
   "metadata": {},
   "outputs": [
    {
     "name": "stdout",
     "output_type": "stream",
     "text": [
      "selected sentences: [0, 1, 2]\n"
     ]
    }
   ],
   "source": [
    "a1_summary_wft = summarize_text_(a1_title, a1_body, 0.5, stopwords, False, True)"
   ]
  },
  {
   "cell_type": "code",
   "execution_count": 82,
   "metadata": {
    "scrolled": true
   },
   "outputs": [
    {
     "name": "stdout",
     "output_type": "stream",
     "text": [
      "selected sentences: [0, 1, 2]\n"
     ]
    }
   ],
   "source": [
    "a1_summary_wtt = summarize_text_(a1_title, a1_body, 0.5, stopwords, True, True)"
   ]
  },
  {
   "cell_type": "markdown",
   "metadata": {},
   "source": [
    "#### Summarization For  Article 2"
   ]
  },
  {
   "cell_type": "code",
   "execution_count": 83,
   "metadata": {
    "scrolled": true
   },
   "outputs": [
    {
     "data": {
      "text/plain": [
       "12"
      ]
     },
     "execution_count": 83,
     "metadata": {},
     "output_type": "execute_result"
    }
   ],
   "source": [
    "len(list(dict.fromkeys(sent_tokenize(a2_body))))"
   ]
  },
  {
   "cell_type": "code",
   "execution_count": 84,
   "metadata": {},
   "outputs": [
    {
     "name": "stdout",
     "output_type": "stream",
     "text": [
      "selected sentences: [10, 0, 5]\n"
     ]
    }
   ],
   "source": [
    "a2_summary_wff = summarize_text_(a2_title, a2_body, 0.3, stopwords, False, False)"
   ]
  },
  {
   "cell_type": "code",
   "execution_count": 85,
   "metadata": {},
   "outputs": [
    {
     "name": "stdout",
     "output_type": "stream",
     "text": [
      "selected sentences: [10, 0, 4]\n"
     ]
    }
   ],
   "source": [
    "a2_summary_wtf = summarize_text_(a2_title, a2_body, 0.3, stopwords, True, False)"
   ]
  },
  {
   "cell_type": "code",
   "execution_count": 86,
   "metadata": {},
   "outputs": [
    {
     "name": "stdout",
     "output_type": "stream",
     "text": [
      "selected sentences: [0, 10, 5]\n"
     ]
    }
   ],
   "source": [
    "a2_summary_wft = summarize_text_(a2_title, a2_body, 0.3, stopwords, False, True)"
   ]
  },
  {
   "cell_type": "code",
   "execution_count": 87,
   "metadata": {},
   "outputs": [
    {
     "name": "stdout",
     "output_type": "stream",
     "text": [
      "selected sentences: [0, 10, 4]\n"
     ]
    }
   ],
   "source": [
    "a2_summary_wtt = summarize_text_(a2_title, a2_body, 0.3, stopwords, True, True)"
   ]
  },
  {
   "cell_type": "markdown",
   "metadata": {},
   "source": [
    "### 3.4 TF-IDF Summarization\n",
    "\n",
    "#### Summarization For  Article 1"
   ]
  },
  {
   "cell_type": "code",
   "execution_count": 88,
   "metadata": {
    "scrolled": true
   },
   "outputs": [
    {
     "data": {
      "text/plain": [
       "7"
      ]
     },
     "execution_count": 88,
     "metadata": {},
     "output_type": "execute_result"
    }
   ],
   "source": [
    "len(list(dict.fromkeys(sent_tokenize(a1_body))))"
   ]
  },
  {
   "cell_type": "code",
   "execution_count": 89,
   "metadata": {},
   "outputs": [
    {
     "name": "stdout",
     "output_type": "stream",
     "text": [
      "selected sentences: [0, 3, 6]\n"
     ]
    }
   ],
   "source": [
    "a1_summary_tdff = summariza_tfidf(a1_title, a1_body, 0.5, stopwords, score_title=False, score_position=False)"
   ]
  },
  {
   "cell_type": "code",
   "execution_count": 90,
   "metadata": {},
   "outputs": [
    {
     "name": "stdout",
     "output_type": "stream",
     "text": [
      "selected sentences: [0, 1, 6]\n"
     ]
    }
   ],
   "source": [
    "a1_summary_tdtf = summariza_tfidf(a1_title, a1_body, 0.5, stopwords, score_title=True, score_position=False)"
   ]
  },
  {
   "cell_type": "code",
   "execution_count": 91,
   "metadata": {},
   "outputs": [
    {
     "name": "stdout",
     "output_type": "stream",
     "text": [
      "selected sentences: [0, 1, 2]\n"
     ]
    }
   ],
   "source": [
    "a1_summary_tdft = summariza_tfidf(a1_title, a1_body, 0.5, stopwords, score_title=False, score_position=True)"
   ]
  },
  {
   "cell_type": "code",
   "execution_count": 92,
   "metadata": {},
   "outputs": [
    {
     "name": "stdout",
     "output_type": "stream",
     "text": [
      "selected sentences: [0, 1, 2]\n"
     ]
    }
   ],
   "source": [
    "a1_summary_tdtt = summariza_tfidf(a1_title, a1_body, 0.5, stopwords, score_title=True, score_position=True)"
   ]
  },
  {
   "cell_type": "markdown",
   "metadata": {},
   "source": [
    "#### Article 2"
   ]
  },
  {
   "cell_type": "code",
   "execution_count": 93,
   "metadata": {},
   "outputs": [
    {
     "name": "stdout",
     "output_type": "stream",
     "text": [
      "selected sentences: [2, 6, 7]\n"
     ]
    }
   ],
   "source": [
    "a2_summary_tdff = summariza_tfidf(a2_title, a2_body, 0.3, stopwords, score_title=False, score_position=False)"
   ]
  },
  {
   "cell_type": "code",
   "execution_count": 94,
   "metadata": {},
   "outputs": [
    {
     "name": "stdout",
     "output_type": "stream",
     "text": [
      "selected sentences: [0, 2, 4]\n"
     ]
    }
   ],
   "source": [
    "a2_summary_tdtf = summariza_tfidf(a2_title, a2_body, 0.3, stopwords, score_title=True, score_position=False)"
   ]
  },
  {
   "cell_type": "code",
   "execution_count": 95,
   "metadata": {},
   "outputs": [
    {
     "name": "stdout",
     "output_type": "stream",
     "text": [
      "selected sentences: [1, 2, 6]\n"
     ]
    }
   ],
   "source": [
    "a2_summary_tdft = summariza_tfidf(a2_title, a2_body, 0.3, stopwords, score_title=False, score_position=True)"
   ]
  },
  {
   "cell_type": "code",
   "execution_count": 96,
   "metadata": {},
   "outputs": [
    {
     "name": "stdout",
     "output_type": "stream",
     "text": [
      "selected sentences: [0, 1, 2]\n"
     ]
    }
   ],
   "source": [
    "a2_summary_tdtt = summariza_tfidf(a2_title, a2_body, 0.3, stopwords, score_title=True, score_position=True)"
   ]
  },
  {
   "cell_type": "markdown",
   "metadata": {},
   "source": [
    "### 3.5 Summarization with TextRank\n",
    "#### article 1"
   ]
  },
  {
   "cell_type": "code",
   "execution_count": 97,
   "metadata": {},
   "outputs": [
    {
     "name": "stdout",
     "output_type": "stream",
     "text": [
      "selected sentences: [0, 1, 2]\n"
     ]
    }
   ],
   "source": [
    "a1_summary_tr = summariza_textrank(a1_body, 0.5, stopwords=stopwords)"
   ]
  },
  {
   "cell_type": "markdown",
   "metadata": {},
   "source": [
    "#### article 2"
   ]
  },
  {
   "cell_type": "code",
   "execution_count": 98,
   "metadata": {},
   "outputs": [
    {
     "name": "stdout",
     "output_type": "stream",
     "text": [
      "selected sentences: [0, 5, 6]\n"
     ]
    }
   ],
   "source": [
    "a2_summary_tr = summariza_textrank(a2_body, 0.2, stopwords=stopwords)"
   ]
  },
  {
   "cell_type": "markdown",
   "metadata": {},
   "source": [
    "## 4. Scoring"
   ]
  },
  {
   "cell_type": "code",
   "execution_count": 99,
   "metadata": {},
   "outputs": [],
   "source": [
    "from rouge_score import rouge_scorer"
   ]
  },
  {
   "cell_type": "code",
   "execution_count": 100,
   "metadata": {},
   "outputs": [],
   "source": [
    "scorer = rouge_scorer.RougeScorer(['rouge1', 'rouge2','rougeL'])"
   ]
  },
  {
   "cell_type": "code",
   "execution_count": 101,
   "metadata": {},
   "outputs": [],
   "source": [
    "# scores for word frequency based summarization on article 1\n",
    "scores_a1_wf_ff = scorer.score(str(a1_summary_wff),\n",
    "                      str(al_summary_ideal))\n",
    "scores_a1_wf_tf = scorer.score(str(a1_summary_wtf),\n",
    "                      str(al_summary_ideal))\n",
    "scores_a1_wf_ft = scorer.score(str(a1_summary_wft),\n",
    "                      str(al_summary_ideal))\n",
    "scores_a1_wf_tt = scorer.score(str(a1_summary_wtt),\n",
    "                      str(al_summary_ideal))\n",
    "\n",
    "# scores for word frequency based summarization on article 2\n",
    "scores_a2_wf_ff = scorer.score(str(a2_summary_wff),\n",
    "                      str(a2_summary_ideal))\n",
    "scores_a2_wf_tf = scorer.score(str(a2_summary_wtf),\n",
    "                      str(a2_summary_ideal))\n",
    "scores_a2_wf_ft = scorer.score(str(a2_summary_wft),\n",
    "                      str(a2_summary_ideal))\n",
    "scores_a2_wf_tt = scorer.score(str(a2_summary_wtt),\n",
    "                      str(a2_summary_ideal))\n",
    "\n",
    "# scores for tfidf based summarization on article 1\n",
    "scores_a1_td_ff = scorer.score(str(a1_summary_tdff),\n",
    "                      str(al_summary_ideal))\n",
    "scores_a1_td_tf = scorer.score(str(a1_summary_tdtf),\n",
    "                      str(al_summary_ideal))\n",
    "scores_a1_td_ft = scorer.score(str(a1_summary_tdft),\n",
    "                      str(al_summary_ideal))\n",
    "scores_a1_td_tt = scorer.score(str(a1_summary_tdtt),\n",
    "                      str(al_summary_ideal))\n",
    "\n",
    "# scores for tfidf  based summarization on article 2\n",
    "scores_a2_td_ff = scorer.score(str(a2_summary_tdff),\n",
    "                      str(a2_summary_ideal))\n",
    "scores_a2_td_tf = scorer.score(str(a2_summary_tdtf),\n",
    "                      str(a2_summary_ideal))\n",
    "scores_a2_td_ft = scorer.score(str(a2_summary_tdft),\n",
    "                      str(a2_summary_ideal))\n",
    "scores_a2_td_tt = scorer.score(str(a2_summary_tdtt),\n",
    "                      str(a2_summary_ideal))\n",
    "\n",
    "\n",
    "# scores for textrank based summarization on article 1\n",
    "\n",
    "scores_a1_tr = scorer.score(str(a1_summary_tr),\n",
    "                      str(al_summary_ideal))\n",
    "\n",
    "scores_a2_tr = scorer.score(str(a2_summary_tr),\n",
    "                      str(a2_summary_ideal))\n",
    "\n",
    "# scores = scorer.score(str(j_summary_word_frequency),\n",
    "#                       str(j_summary_ideal))"
   ]
  },
  {
   "cell_type": "code",
   "execution_count": 102,
   "metadata": {},
   "outputs": [
    {
     "data": {
      "text/plain": [
       "{'rouge1': Score(precision=0.7558139534883721, recall=0.8333333333333334, fmeasure=0.7926829268292682),\n",
       " 'rouge2': Score(precision=0.7294117647058823, recall=0.8051948051948052, fmeasure=0.7654320987654321),\n",
       " 'rougeL': Score(precision=0.7441860465116279, recall=0.8205128205128205, fmeasure=0.7804878048780488)}"
      ]
     },
     "execution_count": 102,
     "metadata": {},
     "output_type": "execute_result"
    }
   ],
   "source": [
    "scores_a1_wf_ff"
   ]
  },
  {
   "cell_type": "code",
   "execution_count": 103,
   "metadata": {},
   "outputs": [
    {
     "data": {
      "text/plain": [
       "{'rouge1': Score(precision=0.7558139534883721, recall=0.7647058823529411, fmeasure=0.7602339181286549),\n",
       " 'rouge2': Score(precision=0.7294117647058823, recall=0.7380952380952381, fmeasure=0.7337278106508874),\n",
       " 'rougeL': Score(precision=0.7441860465116279, recall=0.7529411764705882, fmeasure=0.7485380116959064)}"
      ]
     },
     "execution_count": 103,
     "metadata": {},
     "output_type": "execute_result"
    }
   ],
   "source": [
    "scores_a1_wf_tf"
   ]
  },
  {
   "cell_type": "code",
   "execution_count": 104,
   "metadata": {},
   "outputs": [
    {
     "data": {
      "text/plain": [
       "{'rouge1': Score(precision=0.8023255813953488, recall=0.7040816326530612, fmeasure=0.7500000000000001),\n",
       " 'rouge2': Score(precision=0.7411764705882353, recall=0.6494845360824743, fmeasure=0.6923076923076924),\n",
       " 'rougeL': Score(precision=0.7674418604651163, recall=0.673469387755102, fmeasure=0.7173913043478259)}"
      ]
     },
     "execution_count": 104,
     "metadata": {},
     "output_type": "execute_result"
    }
   ],
   "source": [
    "scores_a1_wf_ft"
   ]
  },
  {
   "cell_type": "code",
   "execution_count": 105,
   "metadata": {},
   "outputs": [
    {
     "data": {
      "text/plain": [
       "{'rouge1': Score(precision=0.8023255813953488, recall=0.7040816326530612, fmeasure=0.7500000000000001),\n",
       " 'rouge2': Score(precision=0.7411764705882353, recall=0.6494845360824743, fmeasure=0.6923076923076924),\n",
       " 'rougeL': Score(precision=0.7674418604651163, recall=0.673469387755102, fmeasure=0.7173913043478259)}"
      ]
     },
     "execution_count": 105,
     "metadata": {},
     "output_type": "execute_result"
    }
   ],
   "source": [
    "scores_a1_wf_tt"
   ]
  },
  {
   "cell_type": "code",
   "execution_count": 106,
   "metadata": {},
   "outputs": [
    {
     "data": {
      "text/plain": [
       "{'rouge1': Score(precision=0.38636363636363635, recall=0.5151515151515151, fmeasure=0.44155844155844154),\n",
       " 'rouge2': Score(precision=0.3218390804597701, recall=0.4307692307692308, fmeasure=0.3684210526315789),\n",
       " 'rougeL': Score(precision=0.36363636363636365, recall=0.48484848484848486, fmeasure=0.4155844155844156)}"
      ]
     },
     "execution_count": 106,
     "metadata": {},
     "output_type": "execute_result"
    }
   ],
   "source": [
    "scores_a2_wf_ff"
   ]
  },
  {
   "cell_type": "code",
   "execution_count": 107,
   "metadata": {},
   "outputs": [
    {
     "data": {
      "text/plain": [
       "{'rouge1': Score(precision=0.36363636363636365, recall=0.5245901639344263, fmeasure=0.4295302013422819),\n",
       " 'rouge2': Score(precision=0.3218390804597701, recall=0.4666666666666667, fmeasure=0.380952380952381),\n",
       " 'rougeL': Score(precision=0.3522727272727273, recall=0.5081967213114754, fmeasure=0.4161073825503356)}"
      ]
     },
     "execution_count": 107,
     "metadata": {},
     "output_type": "execute_result"
    }
   ],
   "source": [
    "scores_a2_wf_tf"
   ]
  },
  {
   "cell_type": "code",
   "execution_count": 108,
   "metadata": {},
   "outputs": [
    {
     "data": {
      "text/plain": [
       "{'rouge1': Score(precision=0.38636363636363635, recall=0.5151515151515151, fmeasure=0.44155844155844154),\n",
       " 'rouge2': Score(precision=0.3218390804597701, recall=0.4307692307692308, fmeasure=0.3684210526315789),\n",
       " 'rougeL': Score(precision=0.36363636363636365, recall=0.48484848484848486, fmeasure=0.4155844155844156)}"
      ]
     },
     "execution_count": 108,
     "metadata": {},
     "output_type": "execute_result"
    }
   ],
   "source": [
    "scores_a2_wf_ft"
   ]
  },
  {
   "cell_type": "code",
   "execution_count": 109,
   "metadata": {},
   "outputs": [
    {
     "data": {
      "text/plain": [
       "{'rouge1': Score(precision=0.36363636363636365, recall=0.5245901639344263, fmeasure=0.4295302013422819),\n",
       " 'rouge2': Score(precision=0.3218390804597701, recall=0.4666666666666667, fmeasure=0.380952380952381),\n",
       " 'rougeL': Score(precision=0.36363636363636365, recall=0.5245901639344263, fmeasure=0.4295302013422819)}"
      ]
     },
     "execution_count": 109,
     "metadata": {},
     "output_type": "execute_result"
    }
   ],
   "source": [
    "scores_a2_wf_tt"
   ]
  },
  {
   "cell_type": "code",
   "execution_count": 110,
   "metadata": {},
   "outputs": [
    {
     "data": {
      "text/plain": [
       "{'rouge1': Score(precision=0.6162790697674418, recall=0.7361111111111112, fmeasure=0.6708860759493671),\n",
       " 'rouge2': Score(precision=0.5764705882352941, recall=0.6901408450704225, fmeasure=0.6282051282051282),\n",
       " 'rougeL': Score(precision=0.5930232558139535, recall=0.7083333333333334, fmeasure=0.6455696202531647)}"
      ]
     },
     "execution_count": 110,
     "metadata": {},
     "output_type": "execute_result"
    }
   ],
   "source": [
    "scores_a1_td_ff"
   ]
  },
  {
   "cell_type": "code",
   "execution_count": 111,
   "metadata": {},
   "outputs": [
    {
     "data": {
      "text/plain": [
       "{'rouge1': Score(precision=0.7558139534883721, recall=0.7647058823529411, fmeasure=0.7602339181286549),\n",
       " 'rouge2': Score(precision=0.7411764705882353, recall=0.75, fmeasure=0.7455621301775148),\n",
       " 'rougeL': Score(precision=0.7558139534883721, recall=0.7647058823529411, fmeasure=0.7602339181286549)}"
      ]
     },
     "execution_count": 111,
     "metadata": {},
     "output_type": "execute_result"
    }
   ],
   "source": [
    "scores_a1_td_tf"
   ]
  },
  {
   "cell_type": "code",
   "execution_count": 112,
   "metadata": {},
   "outputs": [
    {
     "data": {
      "text/plain": [
       "{'rouge1': Score(precision=0.8023255813953488, recall=0.7040816326530612, fmeasure=0.7500000000000001),\n",
       " 'rouge2': Score(precision=0.7411764705882353, recall=0.6494845360824743, fmeasure=0.6923076923076924),\n",
       " 'rougeL': Score(precision=0.7674418604651163, recall=0.673469387755102, fmeasure=0.7173913043478259)}"
      ]
     },
     "execution_count": 112,
     "metadata": {},
     "output_type": "execute_result"
    }
   ],
   "source": [
    "scores_a1_td_ft"
   ]
  },
  {
   "cell_type": "code",
   "execution_count": 113,
   "metadata": {},
   "outputs": [
    {
     "data": {
      "text/plain": [
       "{'rouge1': Score(precision=0.8023255813953488, recall=0.7040816326530612, fmeasure=0.7500000000000001),\n",
       " 'rouge2': Score(precision=0.7411764705882353, recall=0.6494845360824743, fmeasure=0.6923076923076924),\n",
       " 'rougeL': Score(precision=0.7674418604651163, recall=0.673469387755102, fmeasure=0.7173913043478259)}"
      ]
     },
     "execution_count": 113,
     "metadata": {},
     "output_type": "execute_result"
    }
   ],
   "source": [
    "scores_a1_td_tt"
   ]
  },
  {
   "cell_type": "code",
   "execution_count": 114,
   "metadata": {},
   "outputs": [
    {
     "data": {
      "text/plain": [
       "{'rouge1': Score(precision=0.36363636363636365, recall=0.3076923076923077, fmeasure=0.33333333333333337),\n",
       " 'rouge2': Score(precision=0.09195402298850575, recall=0.07766990291262135, fmeasure=0.08421052631578947),\n",
       " 'rougeL': Score(precision=0.19318181818181818, recall=0.16346153846153846, fmeasure=0.17708333333333331)}"
      ]
     },
     "execution_count": 114,
     "metadata": {},
     "output_type": "execute_result"
    }
   ],
   "source": [
    "scores_a2_td_ff"
   ]
  },
  {
   "cell_type": "code",
   "execution_count": 115,
   "metadata": {},
   "outputs": [
    {
     "data": {
      "text/plain": [
       "{'rouge1': Score(precision=0.4431818181818182, recall=0.4642857142857143, fmeasure=0.45348837209302323),\n",
       " 'rouge2': Score(precision=0.3218390804597701, recall=0.3373493975903614, fmeasure=0.3294117647058823),\n",
       " 'rougeL': Score(precision=0.4090909090909091, recall=0.42857142857142855, fmeasure=0.4186046511627907)}"
      ]
     },
     "execution_count": 115,
     "metadata": {},
     "output_type": "execute_result"
    }
   ],
   "source": [
    "scores_a2_td_tf"
   ]
  },
  {
   "cell_type": "code",
   "execution_count": 116,
   "metadata": {},
   "outputs": [
    {
     "data": {
      "text/plain": [
       "{'rouge1': Score(precision=0.5227272727272727, recall=0.46, fmeasure=0.4893617021276596),\n",
       " 'rouge2': Score(precision=0.3448275862068966, recall=0.30303030303030304, fmeasure=0.32258064516129037),\n",
       " 'rougeL': Score(precision=0.36363636363636365, recall=0.32, fmeasure=0.3404255319148936)}"
      ]
     },
     "execution_count": 116,
     "metadata": {},
     "output_type": "execute_result"
    }
   ],
   "source": [
    "scores_a2_td_ft"
   ]
  },
  {
   "cell_type": "code",
   "execution_count": 117,
   "metadata": {},
   "outputs": [
    {
     "data": {
      "text/plain": [
       "{'rouge1': Score(precision=0.6704545454545454, recall=0.6555555555555556, fmeasure=0.6629213483146068),\n",
       " 'rouge2': Score(precision=0.632183908045977, recall=0.6179775280898876, fmeasure=0.625),\n",
       " 'rougeL': Score(precision=0.6704545454545454, recall=0.6555555555555556, fmeasure=0.6629213483146068)}"
      ]
     },
     "execution_count": 117,
     "metadata": {},
     "output_type": "execute_result"
    }
   ],
   "source": [
    "scores_a2_td_tt"
   ]
  },
  {
   "cell_type": "code",
   "execution_count": 118,
   "metadata": {},
   "outputs": [
    {
     "data": {
      "text/plain": [
       "{'rouge1': Score(precision=0.8023255813953488, recall=0.7040816326530612, fmeasure=0.7500000000000001),\n",
       " 'rouge2': Score(precision=0.7411764705882353, recall=0.6494845360824743, fmeasure=0.6923076923076924),\n",
       " 'rougeL': Score(precision=0.7674418604651163, recall=0.673469387755102, fmeasure=0.7173913043478259)}"
      ]
     },
     "execution_count": 118,
     "metadata": {},
     "output_type": "execute_result"
    }
   ],
   "source": [
    "scores_a1_tr"
   ]
  },
  {
   "cell_type": "code",
   "execution_count": 119,
   "metadata": {},
   "outputs": [
    {
     "data": {
      "text/plain": [
       "{'rouge1': Score(precision=0.375, recall=0.5, fmeasure=0.42857142857142855),\n",
       " 'rouge2': Score(precision=0.3218390804597701, recall=0.4307692307692308, fmeasure=0.3684210526315789),\n",
       " 'rougeL': Score(precision=0.36363636363636365, recall=0.48484848484848486, fmeasure=0.4155844155844156)}"
      ]
     },
     "execution_count": 119,
     "metadata": {},
     "output_type": "execute_result"
    }
   ],
   "source": [
    "scores_a2_tr"
   ]
  }
 ],
 "metadata": {
  "kernelspec": {
   "display_name": "Python 3",
   "language": "python",
   "name": "python3"
  },
  "language_info": {
   "codemirror_mode": {
    "name": "ipython",
    "version": 3
   },
   "file_extension": ".py",
   "mimetype": "text/x-python",
   "name": "python",
   "nbconvert_exporter": "python",
   "pygments_lexer": "ipython3",
   "version": "3.7.6"
  }
 },
 "nbformat": 4,
 "nbformat_minor": 4
}
