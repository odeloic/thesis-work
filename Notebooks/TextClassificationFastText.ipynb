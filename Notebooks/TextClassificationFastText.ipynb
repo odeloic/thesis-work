{
 "cells": [
  {
   "cell_type": "markdown",
   "metadata": {},
   "source": [
    "# Text classification with FastText\n",
    "## 1. Importing libraries and dataset"
   ]
  },
  {
   "cell_type": "code",
   "execution_count": 11,
   "metadata": {},
   "outputs": [],
   "source": [
    "import fasttext as ft\n",
    "import pandas as pd\n",
    "import os, sys\n",
    "module_path = os.path.abspath(os.path.join('..'))\n",
    "if module_path not in sys.path:\n",
    "    sys.path.append(module_path)\n",
    "from lib.kinya_norm import normalize_text, strip_html_tags\n",
    "from lib.helpers import getStopwordsFromFile"
   ]
  },
  {
   "cell_type": "code",
   "execution_count": 12,
   "metadata": {},
   "outputs": [],
   "source": [
    "df  = pd.read_csv('../Data/amakuru.csv')"
   ]
  },
  {
   "cell_type": "code",
   "execution_count": 13,
   "metadata": {},
   "outputs": [
    {
     "data": {
      "text/plain": [
       "(3182, 4)"
      ]
     },
     "execution_count": 13,
     "metadata": {},
     "output_type": "execute_result"
    }
   ],
   "source": [
    "df.shape"
   ]
  },
  {
   "cell_type": "markdown",
   "metadata": {},
   "source": [
    "## 2.  Clean this dataset\n",
    "1. Remove Repeated Rows\n",
    "2. Remove Null Rows\n",
    "2. Remove articles with empty text"
   ]
  },
  {
   "cell_type": "code",
   "execution_count": 14,
   "metadata": {},
   "outputs": [
    {
     "data": {
      "text/plain": [
       "(1888, 4)"
      ]
     },
     "execution_count": 14,
     "metadata": {},
     "output_type": "execute_result"
    }
   ],
   "source": [
    "df = df.drop_duplicates(subset=\"Title\", keep=\"first\")\n",
    "df = df.dropna(subset=['Category'])\n",
    "df = df.sort_values('Title')\n",
    "df.shape"
   ]
  },
  {
   "cell_type": "code",
   "execution_count": 16,
   "metadata": {},
   "outputs": [],
   "source": [
    "df['Length'] = df.Body.str.len()"
   ]
  },
  {
   "cell_type": "code",
   "execution_count": 17,
   "metadata": {
    "scrolled": false
   },
   "outputs": [
    {
     "data": {
      "text/html": [
       "<div>\n",
       "<style scoped>\n",
       "    .dataframe tbody tr th:only-of-type {\n",
       "        vertical-align: middle;\n",
       "    }\n",
       "\n",
       "    .dataframe tbody tr th {\n",
       "        vertical-align: top;\n",
       "    }\n",
       "\n",
       "    .dataframe thead th {\n",
       "        text-align: right;\n",
       "    }\n",
       "</style>\n",
       "<table border=\"1\" class=\"dataframe\">\n",
       "  <thead>\n",
       "    <tr style=\"text-align: right;\">\n",
       "      <th></th>\n",
       "      <th>Title</th>\n",
       "      <th>Body</th>\n",
       "      <th>Url</th>\n",
       "      <th>Category</th>\n",
       "      <th>Length</th>\n",
       "    </tr>\n",
       "  </thead>\n",
       "  <tbody>\n",
       "    <tr>\n",
       "      <th>2667</th>\n",
       "      <td>\\n         (Video) Abakobwa 20 babwiwe  kwiyiz...</td>\n",
       "      <td>Abakobwa bitabiriye irushanwa rya Miss Rwanda ...</td>\n",
       "      <td>https://umuseke.rw/abakobwa-20-babwiwe-kwiyize...</td>\n",
       "      <td>Entertainment</td>\n",
       "      <td>1992</td>\n",
       "    </tr>\n",
       "    <tr>\n",
       "      <th>860</th>\n",
       "      <td>\\n         2019-Q4: Ibiciro by’ibiribwa byazam...</td>\n",
       "      <td>Banki Nkuru y’u Rwanda (BNR) iratangaza ko mu ...</td>\n",
       "      <td>https://umuseke.rw/2019-q4-ibiciro-byibiribwa-...</td>\n",
       "      <td>Business</td>\n",
       "      <td>3997</td>\n",
       "    </tr>\n",
       "    <tr>\n",
       "      <th>1051</th>\n",
       "      <td>\\n         AMAFOTO: Seifu wavunikiye mu mukino...</td>\n",
       "      <td>Umukinnyi wa APR FC, Niyonzima Olivier Seifu w...</td>\n",
       "      <td>https://umuseke.rw/amafoto-seifu-wavunikiye-mu...</td>\n",
       "      <td>Entertainment</td>\n",
       "      <td>1555</td>\n",
       "    </tr>\n",
       "    <tr>\n",
       "      <th>1056</th>\n",
       "      <td>\\n         AMAGARE: HABIMANA na Ingabire beguk...</td>\n",
       "      <td>Ku Cyumweru tariki 26 Mutarama 2020 Hakinwe Ir...</td>\n",
       "      <td>https://umuseke.rw/amagare-habimana-na-ingabir...</td>\n",
       "      <td>Entertainment</td>\n",
       "      <td>2187</td>\n",
       "    </tr>\n",
       "    <tr>\n",
       "      <th>995</th>\n",
       "      <td>\\n         AMAGARE: Ride Rwanda igiye gukinwa ...</td>\n",
       "      <td>Isiganwa ku magare ku bakinnyi batabigize umwu...</td>\n",
       "      <td>https://umuseke.rw/amagare-ride-rwanda-igiye-g...</td>\n",
       "      <td>Entertainment</td>\n",
       "      <td>1351</td>\n",
       "    </tr>\n",
       "  </tbody>\n",
       "</table>\n",
       "</div>"
      ],
      "text/plain": [
       "                                                  Title  \\\n",
       "2667  \\n         (Video) Abakobwa 20 babwiwe  kwiyiz...   \n",
       "860   \\n         2019-Q4: Ibiciro by’ibiribwa byazam...   \n",
       "1051  \\n         AMAFOTO: Seifu wavunikiye mu mukino...   \n",
       "1056  \\n         AMAGARE: HABIMANA na Ingabire beguk...   \n",
       "995   \\n         AMAGARE: Ride Rwanda igiye gukinwa ...   \n",
       "\n",
       "                                                   Body  \\\n",
       "2667  Abakobwa bitabiriye irushanwa rya Miss Rwanda ...   \n",
       "860   Banki Nkuru y’u Rwanda (BNR) iratangaza ko mu ...   \n",
       "1051  Umukinnyi wa APR FC, Niyonzima Olivier Seifu w...   \n",
       "1056  Ku Cyumweru tariki 26 Mutarama 2020 Hakinwe Ir...   \n",
       "995   Isiganwa ku magare ku bakinnyi batabigize umwu...   \n",
       "\n",
       "                                                    Url       Category  Length  \n",
       "2667  https://umuseke.rw/abakobwa-20-babwiwe-kwiyize...  Entertainment    1992  \n",
       "860   https://umuseke.rw/2019-q4-ibiciro-byibiribwa-...       Business    3997  \n",
       "1051  https://umuseke.rw/amafoto-seifu-wavunikiye-mu...  Entertainment    1555  \n",
       "1056  https://umuseke.rw/amagare-habimana-na-ingabir...  Entertainment    2187  \n",
       "995   https://umuseke.rw/amagare-ride-rwanda-igiye-g...  Entertainment    1351  "
      ]
     },
     "execution_count": 17,
     "metadata": {},
     "output_type": "execute_result"
    }
   ],
   "source": [
    "df.head()"
   ]
  },
  {
   "cell_type": "code",
   "execution_count": 18,
   "metadata": {},
   "outputs": [],
   "source": [
    "df = df[(df.Length > 50)]"
   ]
  },
  {
   "cell_type": "code",
   "execution_count": 19,
   "metadata": {},
   "outputs": [],
   "source": [
    "strip_nl = lambda x: x.replace('\\n', '')"
   ]
  },
  {
   "cell_type": "code",
   "execution_count": 20,
   "metadata": {},
   "outputs": [
    {
     "data": {
      "text/html": [
       "<div>\n",
       "<style scoped>\n",
       "    .dataframe tbody tr th:only-of-type {\n",
       "        vertical-align: middle;\n",
       "    }\n",
       "\n",
       "    .dataframe tbody tr th {\n",
       "        vertical-align: top;\n",
       "    }\n",
       "\n",
       "    .dataframe thead th {\n",
       "        text-align: right;\n",
       "    }\n",
       "</style>\n",
       "<table border=\"1\" class=\"dataframe\">\n",
       "  <thead>\n",
       "    <tr style=\"text-align: right;\">\n",
       "      <th></th>\n",
       "      <th>Title</th>\n",
       "      <th>Body</th>\n",
       "      <th>Url</th>\n",
       "      <th>Length</th>\n",
       "    </tr>\n",
       "    <tr>\n",
       "      <th>Category</th>\n",
       "      <th></th>\n",
       "      <th></th>\n",
       "      <th></th>\n",
       "      <th></th>\n",
       "    </tr>\n",
       "  </thead>\n",
       "  <tbody>\n",
       "    <tr>\n",
       "      <th>Business</th>\n",
       "      <td>276</td>\n",
       "      <td>276</td>\n",
       "      <td>276</td>\n",
       "      <td>276</td>\n",
       "    </tr>\n",
       "    <tr>\n",
       "      <th>Culture</th>\n",
       "      <td>84</td>\n",
       "      <td>84</td>\n",
       "      <td>84</td>\n",
       "      <td>84</td>\n",
       "    </tr>\n",
       "    <tr>\n",
       "      <th>Diaspora</th>\n",
       "      <td>48</td>\n",
       "      <td>48</td>\n",
       "      <td>48</td>\n",
       "      <td>48</td>\n",
       "    </tr>\n",
       "    <tr>\n",
       "      <th>Education</th>\n",
       "      <td>299</td>\n",
       "      <td>299</td>\n",
       "      <td>299</td>\n",
       "      <td>299</td>\n",
       "    </tr>\n",
       "    <tr>\n",
       "      <th>Entertainment</th>\n",
       "      <td>267</td>\n",
       "      <td>267</td>\n",
       "      <td>267</td>\n",
       "      <td>267</td>\n",
       "    </tr>\n",
       "    <tr>\n",
       "      <th>Environment</th>\n",
       "      <td>48</td>\n",
       "      <td>48</td>\n",
       "      <td>48</td>\n",
       "      <td>48</td>\n",
       "    </tr>\n",
       "    <tr>\n",
       "      <th>Gospel</th>\n",
       "      <td>63</td>\n",
       "      <td>63</td>\n",
       "      <td>63</td>\n",
       "      <td>63</td>\n",
       "    </tr>\n",
       "    <tr>\n",
       "      <th>Health</th>\n",
       "      <td>223</td>\n",
       "      <td>223</td>\n",
       "      <td>223</td>\n",
       "      <td>223</td>\n",
       "    </tr>\n",
       "    <tr>\n",
       "      <th>Opinion</th>\n",
       "      <td>6</td>\n",
       "      <td>6</td>\n",
       "      <td>6</td>\n",
       "      <td>6</td>\n",
       "    </tr>\n",
       "    <tr>\n",
       "      <th>Politics</th>\n",
       "      <td>248</td>\n",
       "      <td>248</td>\n",
       "      <td>248</td>\n",
       "      <td>248</td>\n",
       "    </tr>\n",
       "    <tr>\n",
       "      <th>Sport</th>\n",
       "      <td>32</td>\n",
       "      <td>32</td>\n",
       "      <td>32</td>\n",
       "      <td>32</td>\n",
       "    </tr>\n",
       "    <tr>\n",
       "      <th>Tech</th>\n",
       "      <td>238</td>\n",
       "      <td>238</td>\n",
       "      <td>238</td>\n",
       "      <td>238</td>\n",
       "    </tr>\n",
       "    <tr>\n",
       "      <th>Tourism</th>\n",
       "      <td>49</td>\n",
       "      <td>49</td>\n",
       "      <td>49</td>\n",
       "      <td>49</td>\n",
       "    </tr>\n",
       "  </tbody>\n",
       "</table>\n",
       "</div>"
      ],
      "text/plain": [
       "               Title  Body  Url  Length\n",
       "Category                               \n",
       "Business         276   276  276     276\n",
       "Culture           84    84   84      84\n",
       "Diaspora          48    48   48      48\n",
       "Education        299   299  299     299\n",
       "Entertainment    267   267  267     267\n",
       "Environment       48    48   48      48\n",
       "Gospel            63    63   63      63\n",
       "Health           223   223  223     223\n",
       "Opinion            6     6    6       6\n",
       "Politics         248   248  248     248\n",
       "Sport             32    32   32      32\n",
       "Tech             238   238  238     238\n",
       "Tourism           49    49   49      49"
      ]
     },
     "execution_count": 20,
     "metadata": {},
     "output_type": "execute_result"
    }
   ],
   "source": [
    "df.shape\n",
    "df.groupby(['Category']).count()"
   ]
  },
  {
   "cell_type": "markdown",
   "metadata": {},
   "source": [
    "## 3. Preprocess text\n",
    "1. Getting body and category columns\n",
    "2. Removing new lines in article body\n",
    "3. Preprocessing article body and removing stopwords"
   ]
  },
  {
   "cell_type": "code",
   "execution_count": 21,
   "metadata": {},
   "outputs": [],
   "source": [
    "stopwords = getStopwordsFromFile(\"stopwords_idfvalues.txt\")"
   ]
  },
  {
   "cell_type": "code",
   "execution_count": 22,
   "metadata": {},
   "outputs": [
    {
     "name": "stderr",
     "output_type": "stream",
     "text": [
      "/Users/user/opt/anaconda3/lib/python3.7/site-packages/ipykernel_launcher.py:2: SettingWithCopyWarning: \n",
      "A value is trying to be set on a copy of a slice from a DataFrame.\n",
      "Try using .loc[row_indexer,col_indexer] = value instead\n",
      "\n",
      "See the caveats in the documentation: https://pandas.pydata.org/pandas-docs/stable/user_guide/indexing.html#returning-a-view-versus-a-copy\n",
      "  \n",
      "/Users/user/opt/anaconda3/lib/python3.7/site-packages/ipykernel_launcher.py:3: SettingWithCopyWarning: \n",
      "A value is trying to be set on a copy of a slice from a DataFrame.\n",
      "Try using .loc[row_indexer,col_indexer] = value instead\n",
      "\n",
      "See the caveats in the documentation: https://pandas.pydata.org/pandas-docs/stable/user_guide/indexing.html#returning-a-view-versus-a-copy\n",
      "  This is separate from the ipykernel package so we can avoid doing imports until\n"
     ]
    }
   ],
   "source": [
    "df_ft = df[['Body', 'Category']]\n",
    "df_ft['Body'] = df_ft['Body'].apply(lambda x: x.replace('\\n', ''))\n",
    "df_ft['Body'] = df_ft['Body'].apply(lambda x: normalize_text(x, stopwords_removal=True, stopwords=stopwords))"
   ]
  },
  {
   "cell_type": "code",
   "execution_count": 23,
   "metadata": {},
   "outputs": [
    {
     "data": {
      "text/plain": [
       "(1881, 2)"
      ]
     },
     "execution_count": 23,
     "metadata": {},
     "output_type": "execute_result"
    }
   ],
   "source": [
    "# df_ft['Body'][2]\n",
    "df_ft.shape"
   ]
  },
  {
   "cell_type": "markdown",
   "metadata": {},
   "source": [
    "## 4. Label and save articles to .txt file\n",
    "1. Create dictionary of article body and category\n",
    "2. Format the data per fasttext requirements\n",
    "3. save each article to a text file"
   ]
  },
  {
   "cell_type": "code",
   "execution_count": 24,
   "metadata": {},
   "outputs": [],
   "source": [
    "articles_list = list(zip(df_ft.Body, df_ft.Category))"
   ]
  },
  {
   "cell_type": "code",
   "execution_count": 25,
   "metadata": {},
   "outputs": [],
   "source": [
    "labeled_articles = []\n",
    "for ar in articles_list:\n",
    "    text, category = ar\n",
    "    line = '__label__' + str(category) + ' ' + str(strip_html_tags(text))\n",
    "    labeled_articles.append(line)"
   ]
  },
  {
   "cell_type": "code",
   "execution_count": 26,
   "metadata": {},
   "outputs": [],
   "source": [
    "# type(labeled_articles)\n",
    "# labeled_articles = labeled_articles.sort(key=len)\n",
    "labeled_articles.sort(key=len)"
   ]
  },
  {
   "cell_type": "code",
   "execution_count": 27,
   "metadata": {},
   "outputs": [],
   "source": [
    "with open('ft_dst_0.txt', 'w') as f:\n",
    "    for item in labeled_articles:\n",
    "        f.write(\"%s\\n\" % item)"
   ]
  },
  {
   "cell_type": "markdown",
   "metadata": {},
   "source": [
    "## 5 Split data into training and validation data"
   ]
  },
  {
   "cell_type": "code",
   "execution_count": 28,
   "metadata": {},
   "outputs": [
    {
     "name": "stdout",
     "output_type": "stream",
     "text": [
      "    1881  444353 3658241 ft_dst_0.txt\r\n"
     ]
    }
   ],
   "source": [
    "!wc ft_dst_0.txt"
   ]
  },
  {
   "cell_type": "code",
   "execution_count": 183,
   "metadata": {},
   "outputs": [],
   "source": [
    "!head -n 1681 ft_dst_0.txt > ft_dst_0.train\n",
    "!tail -n 200 ft_dst_0.txt > ft_dst_0.valid"
   ]
  },
  {
   "cell_type": "markdown",
   "metadata": {},
   "source": [
    "## 6 Parameter tuning"
   ]
  },
  {
   "cell_type": "code",
   "execution_count": 30,
   "metadata": {},
   "outputs": [],
   "source": [
    "# model = ft.train_supervised(input=\"ft_dst.train\", autotuneValidationFile='ft_dst.valid')\n",
    "# model = ft.train_supervised(input=\"ft_dst.train\", autotuneValidationFile='ft_dst.valid')\n",
    "# model = ft.train_supervised(input=\"ft_dst.train\")\n",
    "# model = ft.train_supervised(input=\"ft_dst_0.train\", epoch=35, lr=1)\n",
    "# model = ft.train_supervised(input='ft_dst_0.train', autotuneValidationFile='ft_dst_0.valid')\n",
    "model = ft.train_supervised(input='ft_dst_0.train', epoch=25, lr=1)"
   ]
  },
  {
   "cell_type": "markdown",
   "metadata": {},
   "source": [
    "## 7 Testing model on validation data"
   ]
  },
  {
   "cell_type": "code",
   "execution_count": 31,
   "metadata": {},
   "outputs": [
    {
     "data": {
      "text/plain": [
       "(200, 0.78, 0.78)"
      ]
     },
     "execution_count": 31,
     "metadata": {},
     "output_type": "execute_result"
    }
   ],
   "source": [
    "model.test(\"ft_dst_0.valid\")"
   ]
  },
  {
   "cell_type": "markdown",
   "metadata": {},
   "source": [
    "## 8 Predicting on some articles"
   ]
  },
  {
   "cell_type": "code",
   "execution_count": 36,
   "metadata": {},
   "outputs": [
    {
     "data": {
      "text/plain": [
       "(('__label__Education', '__label__Tech', '__label__Politics'),\n",
       " array([0.60282046, 0.22759387, 0.13945426]))"
      ]
     },
     "execution_count": 36,
     "metadata": {},
     "output_type": "execute_result"
    }
   ],
   "source": [
    "model.predict(\"Umudepite akaba n’Umuyobozi w’ishyaka Envol muri Repubulika Iharanira Demokarasi ya Congo, Delly Sesanga, yamaganye igitekerezo cy’umunyapolitiki Adolphe Muzito uherutse gusaba ko igihugu cye gitera u Rwanda rukomekwa kuri RDC kugira ngo amahoro aboneke mu Burasirazuba.\", k=3)"
   ]
  },
  {
   "cell_type": "code",
   "execution_count": 37,
   "metadata": {},
   "outputs": [],
   "source": [
    "test_article = \"\"\"\n",
    "Nibwo bwa mbere mu Rwanda habonetse abanduye Coronavirus barenga 20 mu bipimo by’umunsi umwe nyuma y’aho kuri uyu wa Gatanu tariki ya 24 Mata 2020 Minisante itangarije ko habonetse abantu 22 bashya banduye Coronavirus mu bipimo 1,046 byafashwe. Ibi bipimo kandi akaba atari byo byinshi bipimwe umunsi umwe kuva iyi ndwara yagera mu Rwanda.\n",
    "\"\"\"\n",
    "test_article = normalize_text(test_article)"
   ]
  },
  {
   "cell_type": "code",
   "execution_count": 38,
   "metadata": {},
   "outputs": [
    {
     "data": {
      "text/plain": [
       "(('__label__Health', '__label__Sport', '__label__Gospel'),\n",
       " array([0.78252685, 0.20872971, 0.00677439]))"
      ]
     },
     "execution_count": 38,
     "metadata": {},
     "output_type": "execute_result"
    }
   ],
   "source": [
    "model.predict(test_article.replace('\\n', ''), k=3)"
   ]
  },
  {
   "cell_type": "markdown",
   "metadata": {},
   "source": [
    "model.labels"
   ]
  },
  {
   "cell_type": "code",
   "execution_count": 39,
   "metadata": {},
   "outputs": [
    {
     "data": {
      "text/plain": [
       "['__label__Education',\n",
       " '__label__Entertainment',\n",
       " '__label__Business',\n",
       " '__label__Tech',\n",
       " '__label__Politics',\n",
       " '__label__Health',\n",
       " '__label__Culture',\n",
       " '__label__Gospel',\n",
       " '__label__Diaspora',\n",
       " '__label__Tourism',\n",
       " '__label__Environment',\n",
       " '__label__Sport',\n",
       " '__label__Opinion']"
      ]
     },
     "execution_count": 39,
     "metadata": {},
     "output_type": "execute_result"
    }
   ],
   "source": [
    "model.labels"
   ]
  },
  {
   "cell_type": "code",
   "execution_count": null,
   "metadata": {},
   "outputs": [],
   "source": []
  }
 ],
 "metadata": {
  "kernelspec": {
   "display_name": "Python 3",
   "language": "python",
   "name": "python3"
  },
  "language_info": {
   "codemirror_mode": {
    "name": "ipython",
    "version": 3
   },
   "file_extension": ".py",
   "mimetype": "text/x-python",
   "name": "python",
   "nbconvert_exporter": "python",
   "pygments_lexer": "ipython3",
   "version": "3.7.6"
  }
 },
 "nbformat": 4,
 "nbformat_minor": 4
}
