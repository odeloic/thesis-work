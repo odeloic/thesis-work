{
 "cells": [
  {
   "cell_type": "code",
   "execution_count": 1,
   "metadata": {},
   "outputs": [],
   "source": [
    "import pandas as pd\n",
    "import os\n",
    "import sys\n",
    "import re\n",
    "import unicodedata\n",
    "import nltk\n",
    "from nltk.tokenize import word_tokenize, sent_tokenize\n",
    "from bs4 import BeautifulSoup\n",
    "import heapq\n",
    "from sklearn.feature_extraction.text import TfidfVectorizer\n",
    "module_path = os.path.abspath(os.path.join('..'))\n",
    "if module_path not in sys.path:\n",
    "    sys.path.append(module_path)"
   ]
  },
  {
   "cell_type": "code",
   "execution_count": 2,
   "metadata": {},
   "outputs": [],
   "source": [
    "df = pd.read_csv('../Data/amakuru.csv')\n"
   ]
  },
  {
   "cell_type": "code",
   "execution_count": 3,
   "metadata": {},
   "outputs": [
    {
     "data": {
      "text/plain": [
       "(3182, 4)"
      ]
     },
     "execution_count": 3,
     "metadata": {},
     "output_type": "execute_result"
    }
   ],
   "source": [
    "df.shape"
   ]
  },
  {
   "cell_type": "code",
   "execution_count": 4,
   "metadata": {},
   "outputs": [
    {
     "data": {
      "text/html": [
       "<div>\n",
       "<style scoped>\n",
       "    .dataframe tbody tr th:only-of-type {\n",
       "        vertical-align: middle;\n",
       "    }\n",
       "\n",
       "    .dataframe tbody tr th {\n",
       "        vertical-align: top;\n",
       "    }\n",
       "\n",
       "    .dataframe thead th {\n",
       "        text-align: right;\n",
       "    }\n",
       "</style>\n",
       "<table border=\"1\" class=\"dataframe\">\n",
       "  <thead>\n",
       "    <tr style=\"text-align: right;\">\n",
       "      <th></th>\n",
       "      <th>Title</th>\n",
       "      <th>Body</th>\n",
       "      <th>Url</th>\n",
       "      <th>Category</th>\n",
       "    </tr>\n",
       "  </thead>\n",
       "  <tbody>\n",
       "    <tr>\n",
       "      <th>0</th>\n",
       "      <td>Ubushakashatsi bwagaragaje uburyo bushya bwo k...</td>\n",
       "      <td>Abashakashatsi bagaragaje ko agakoko gatera ig...</td>\n",
       "      <td>https://m.igihe.com/ikoranabuhanga/article/ubu...</td>\n",
       "      <td>Tech</td>\n",
       "    </tr>\n",
       "    <tr>\n",
       "      <th>1</th>\n",
       "      <td>Tuuza bundle, ipaki ya internet yakwifashishwa...</td>\n",
       "      <td>Sositeye y’Itumanaho ya MTN Rwanda izwiho cyan...</td>\n",
       "      <td>https://m.igihe.com/ikoranabuhanga/internet/ar...</td>\n",
       "      <td>Tech</td>\n",
       "    </tr>\n",
       "    <tr>\n",
       "      <th>2</th>\n",
       "      <td>Impamvu ‘Zoom’ yanikiye izindi porogaramu zifa...</td>\n",
       "      <td>Mu buryo busanzwe, iyo abantu bavuze urubuga n...</td>\n",
       "      <td>https://m.igihe.com/ikoranabuhanga/internet/ar...</td>\n",
       "      <td>Tech</td>\n",
       "    </tr>\n",
       "    <tr>\n",
       "      <th>3</th>\n",
       "      <td>Huawei yashyize hanze telefone nshya za P40</td>\n",
       "      <td>Uruganda rukora telefone rwo mu Bushinwa, Huaw...</td>\n",
       "      <td>https://m.igihe.com/ikoranabuhanga/article/hua...</td>\n",
       "      <td>Tech</td>\n",
       "    </tr>\n",
       "    <tr>\n",
       "      <th>4</th>\n",
       "      <td>U Rwanda ku rutonde rw’ibihugu Apple yaguriyem...</td>\n",
       "      <td>Uruganda rukora ibikoresho by’Ikoranabuhanga r...</td>\n",
       "      <td>https://m.igihe.com/ikoranabuhanga/article/u-r...</td>\n",
       "      <td>Tech</td>\n",
       "    </tr>\n",
       "  </tbody>\n",
       "</table>\n",
       "</div>"
      ],
      "text/plain": [
       "                                               Title  \\\n",
       "0  Ubushakashatsi bwagaragaje uburyo bushya bwo k...   \n",
       "1  Tuuza bundle, ipaki ya internet yakwifashishwa...   \n",
       "2  Impamvu ‘Zoom’ yanikiye izindi porogaramu zifa...   \n",
       "3        Huawei yashyize hanze telefone nshya za P40   \n",
       "4  U Rwanda ku rutonde rw’ibihugu Apple yaguriyem...   \n",
       "\n",
       "                                                Body  \\\n",
       "0  Abashakashatsi bagaragaje ko agakoko gatera ig...   \n",
       "1  Sositeye y’Itumanaho ya MTN Rwanda izwiho cyan...   \n",
       "2  Mu buryo busanzwe, iyo abantu bavuze urubuga n...   \n",
       "3  Uruganda rukora telefone rwo mu Bushinwa, Huaw...   \n",
       "4  Uruganda rukora ibikoresho by’Ikoranabuhanga r...   \n",
       "\n",
       "                                                 Url Category  \n",
       "0  https://m.igihe.com/ikoranabuhanga/article/ubu...     Tech  \n",
       "1  https://m.igihe.com/ikoranabuhanga/internet/ar...     Tech  \n",
       "2  https://m.igihe.com/ikoranabuhanga/internet/ar...     Tech  \n",
       "3  https://m.igihe.com/ikoranabuhanga/article/hua...     Tech  \n",
       "4  https://m.igihe.com/ikoranabuhanga/article/u-r...     Tech  "
      ]
     },
     "execution_count": 4,
     "metadata": {},
     "output_type": "execute_result"
    }
   ],
   "source": [
    "df.head()"
   ]
  },
  {
   "cell_type": "code",
   "execution_count": 5,
   "metadata": {},
   "outputs": [],
   "source": [
    "df = df.drop_duplicates(subset=\"Title\", keep=\"first\")"
   ]
  },
  {
   "cell_type": "code",
   "execution_count": 6,
   "metadata": {},
   "outputs": [],
   "source": [
    "df = df.dropna(subset=['Category'])"
   ]
  },
  {
   "cell_type": "markdown",
   "metadata": {},
   "source": [
    "# Preprocessing Kinyarwanda Sentence"
   ]
  },
  {
   "cell_type": "markdown",
   "metadata": {},
   "source": [
    "## Preprocessing Steps to get words\n",
    "\n",
    "1. Normalize case ( lower everything )\n",
    "2. Remove html characters\n",
    "3. Remove Special characters\n",
    "4. "
   ]
  },
  {
   "cell_type": "code",
   "execution_count": 7,
   "metadata": {},
   "outputs": [],
   "source": [
    "from lib.kinya_norm import normalize_text\n",
    "from lib.helpers import getTopSortedKElements, saveWordsToFile, getStopwordsFromFile\n",
    "# corpus = df['Body']\n",
    "# corpus_norm = []"
   ]
  },
  {
   "cell_type": "code",
   "execution_count": 8,
   "metadata": {},
   "outputs": [],
   "source": [
    "# type(corpus)"
   ]
  },
  {
   "cell_type": "code",
   "execution_count": 9,
   "metadata": {},
   "outputs": [],
   "source": [
    "# for article in corpus:\n",
    "#     article = normalize_text(article)\n",
    "#     corpus_norm.append(article)"
   ]
  },
  {
   "cell_type": "code",
   "execution_count": 10,
   "metadata": {},
   "outputs": [],
   "source": [
    "# first approach with CountVectorizer\n",
    "# from sklearn.feature_extraction.text import CountVectorizer\n",
    "# cv = CountVectorizer(tokenizer=word_tokenize)\n",
    "# word_count_vector = cv.fit_transform(corpus_norm)\n",
    "# word_count_vector"
   ]
  },
  {
   "cell_type": "code",
   "execution_count": 11,
   "metadata": {},
   "outputs": [],
   "source": [
    "# word_count_vector.shape"
   ]
  },
  {
   "cell_type": "code",
   "execution_count": 12,
   "metadata": {},
   "outputs": [],
   "source": [
    "#from sklearn.feature_extraction.text import TfidfTransformer\n",
    "#tfidf_transformer = TfidfTransformer(smooth_idf=True, use_idf=True)\n",
    "#tfidf_transformer.fit(word_count_vector)"
   ]
  },
  {
   "cell_type": "code",
   "execution_count": 13,
   "metadata": {},
   "outputs": [],
   "source": [
    "#df_idf = pd.DataFrame(tfidf_transformer.idf_, index=cv.get_feature_names(), columns=[\"idf_weights\"])#"
   ]
  },
  {
   "cell_type": "code",
   "execution_count": 14,
   "metadata": {},
   "outputs": [],
   "source": [
    "#df_idf = df_idf.sort_values(by=['idf_weights'])"
   ]
  },
  {
   "cell_type": "code",
   "execution_count": 15,
   "metadata": {},
   "outputs": [],
   "source": [
    "#df_idf.shape"
   ]
  },
  {
   "cell_type": "code",
   "execution_count": 16,
   "metadata": {},
   "outputs": [],
   "source": [
    "#idf_values_dict = dict(zip(cv.get_feature_names(), tfidf_transformer.idf_))\n",
    "#saveWordsToFile('stopwords_idfvalues.txt', getTopSortedKElements(idf_values_dict, 200))"
   ]
  },
  {
   "cell_type": "code",
   "execution_count": 17,
   "metadata": {},
   "outputs": [],
   "source": [
    "# docs = []\n",
    "# for doc in corpus_norm:\n",
    "#     tokens = word_tokenize(doc)\n",
    "#     docs.append(tokens)"
   ]
  },
  {
   "cell_type": "code",
   "execution_count": 18,
   "metadata": {},
   "outputs": [],
   "source": [
    "# vectorizer = TfidfVectorizer(analyzer='word', tokenizer=word_tokenize, token_pattern=None)\n",
    "# vectorizer = TfidfVectorizer()"
   ]
  },
  {
   "cell_type": "code",
   "execution_count": 19,
   "metadata": {},
   "outputs": [],
   "source": [
    "# vectors = vectorizer.fit_transform(corpus_norm)\n",
    "# feature_names = vectorizer.get_feature_names()"
   ]
  },
  {
   "cell_type": "code",
   "execution_count": 20,
   "metadata": {},
   "outputs": [],
   "source": [
    "# dense = vectors.todense()\n",
    "# denselist = dense.tolist()"
   ]
  },
  {
   "cell_type": "code",
   "execution_count": 21,
   "metadata": {},
   "outputs": [],
   "source": [
    "# denselist = dense.tolist()"
   ]
  },
  {
   "cell_type": "code",
   "execution_count": 22,
   "metadata": {},
   "outputs": [],
   "source": [
    "# len(feature_names)"
   ]
  },
  {
   "cell_type": "code",
   "execution_count": 23,
   "metadata": {},
   "outputs": [],
   "source": [
    "# dfc = pd.DataFrame(denselist, columns=feature_names)"
   ]
  },
  {
   "cell_type": "code",
   "execution_count": 24,
   "metadata": {},
   "outputs": [],
   "source": [
    "# tfidf = vectorizer._tfidf.idf_\n",
    "# idf = vectorizer.idf_\n",
    "# tfidf_values = dict(zip(vectorizer.get_feature_names(), tfidf))\n",
    "# idf_values = dict(zip(vectorizer.get_feature_names(), idf))"
   ]
  },
  {
   "cell_type": "code",
   "execution_count": 25,
   "metadata": {},
   "outputs": [],
   "source": [
    "stopwords = getStopwordsFromFile('stopwords_idfvalues.txt')"
   ]
  },
  {
   "cell_type": "code",
   "execution_count": 26,
   "metadata": {},
   "outputs": [],
   "source": [
    "# max_tfidf = tfidf_values[max(tfidf_values.keys(), key=(lambda k: tfidf_values[k]))]\n",
    "# min_tfidf = tfidf_values[min(tfidf_values.keys(), key=(lambda k: tfidf_values[k]))]\n",
    "# avg_tfidf = (max_tfidf + min_tfidf) / 2\n",
    "# avg_tfidf"
   ]
  },
  {
   "cell_type": "code",
   "execution_count": 27,
   "metadata": {},
   "outputs": [],
   "source": [
    "# cd_stp = {k:v for (k,v) in tfidf_values.items() if v < avg_tfidf}\n",
    "# kinya_stopwords = list(cd_stp.keys())\n",
    "\n",
    "# with open('../Data/stopwords.txt', 'w') as file:\n",
    "#     for word in kinya_stopwords:\n",
    "#         file.write('%s\\n' % word)"
   ]
  },
  {
   "cell_type": "code",
   "execution_count": 28,
   "metadata": {},
   "outputs": [],
   "source": [
    "from lib.kinyasum import summarize_text_\n",
    "from lib.summariza_tfidf import summariza_tfidf\n",
    "from lib.summariza_textrank import summariza_textrank"
   ]
  },
  {
   "cell_type": "code",
   "execution_count": 29,
   "metadata": {},
   "outputs": [
    {
     "name": "stdout",
     "output_type": "stream",
     "text": [
      "selected sentences: [2, 1, 0]\n"
     ]
    },
    {
     "data": {
      "text/plain": [
       "'Isoko rya telefone zigezweho muri Afurika y’Iburasirazuba (EAC) biteganyijwe ko rizagabanyuka ku kigero cya 12% mu mezi atatu ya mbere ya 2020 na 3% mu mezi atatu azakurikiraho.\\nIsoko rya telefone zigezweho muri Afurika y’Iburasirazuba (EAC) biteganyijwe ko rizagabanyuka ku kigero cya 12% mu mezi atatu ya mbere ya 2020 na 3% mu mezi atatu azakurikiraho.\\nIbyo bivuze ko telefone za smartphone zinjira mu karere zizaba nke, igiciro cyazo kikazamuka kubera ibibazo biri mu gutumiza ibikoresho by’ikoranabuhanga bitewe n’icyorezo cya coronavirus.\\nBiteganyijwe ko isoko rizakomeza kugenda nabi mu mezi atandatu ya 2020, ibintu bizasubira mu buryo mu gihembwe cya gatatu n’icya Kane by’umwaka nabwo nihagira igikorwa ngo icyorezo gihagarikwe, ubucuruzi busubire uko bwahoze.\\nRaporo y’ikigo cy’ubushakashatsi, International Data Corporation (IDC) igaragaza ko umubare wa telefone zigezweho zizinjira muri EAC uyu mwaka uzagabanukaho 1.6\\xa0% ugereranyije n’izinjiye umwaka ushize.\\nUgereranyije na telefone zigezweho zinjiye muri Kenya umwaka ushize, mu mezi atandatu ya mbere ya 2020 zizagabanukaho 10\\xa0% kandi ibiciro byiyongere.\\nUmwaka ushize muri Kenya, Uganda na Tanzania telefone zigezweho zinjiye muri ibyo bihugu zari miliyoni 10.7, zivuye kuri telefone miliyoni 9.4 zinjiye mu 2018.\\nIbihugu byo mu karere bifite isoko rito rya telefone, raporo ivuga ko bizagerwaho n’ingaruka nyinshi kuko ibigo bicuruza n’ibiranguza telefone bizaba bishishikajwe n’amasoko manini nka Kenya ari naho bashobora kohereza telefone nyinshi mu gihe cya coronavirus.\\nUretse telefone kandi n’ibindi byuma by’ikoranabuhanga nka televiziyo, firigo n’bindi bizahenda kuko abari bafite ububiko bwabyo mbere y’uko icyorezo cya coronavirus gikwirakwira, ubu mu bubiko bigiye gushira. Ikindi ni uko muri Mutarama mu Bushinwa bari mu birori byo kwizihiza umwaka mushya ku buryo inganda zitakoraga, hiyongereyeho n’icyorezo cya coronavirus cyacaga ibintu muri icyo gihugu.\\nRaporo igaragaza ko telefone zicuruzwa muri Afurika y’Iburasirazuba ziganjemo iz’inganda zo mu Bushinwa nka Tecno, Itel, Infinix, Xiaomi na Huawei kuko bigize 85\\xa0% bya telefone zose zicuruzwa mu karere. Samsung na Nokia ni ubundi bwoko bwa telefone zicuruzwa muri EAC.\\nBagaragaza ko coronavirus ishobora no kugira ingaruka ku gushyira hanze telefone nshya kuko hari bimwe mu bikoresho byifashishwa mu gukora telefone bitari kubasha kugera ku nganda kuko biva hanze y’u Bushinwa.\\n'"
      ]
     },
     "execution_count": 29,
     "metadata": {},
     "output_type": "execute_result"
    }
   ],
   "source": [
    "a1 = df.loc[10]\n",
    "a1_title = a1['Title']\n",
    "a1_body = a1['Body']\n",
    "\n",
    "a2 = df.loc[15]\n",
    "a2_title = a2['Title']\n",
    "a2_body = a2['Body']\n",
    "\n",
    "a3 = df.loc[30]\n",
    "a3_title = a3['Title']\n",
    "a3_body = a3['Body']\n",
    "j_title = 'Serivisi eshanu za Apple zafunguriwe abakiliya bayo mu Rwanda'\n",
    "j_text = '''\n",
    "Abatunze ibikoresho bya Apple nka iPhone, iPad n’ibindi bajyaga bagerageza serivisi zimwe bakabwirwa ko aho baherereye zidakora, bashyizwe igorora kuri serivisi nyinshi bafunguriwe guhera kuri uyu wa Kabiri.\n",
    "\n",
    "Uru ruganda rwo muri Leta Zunze Ubumwe za Amerika, rwatangaje ko guhera uyu munsi serivisi zirimo App Store, Apple Arcade, Apple Music, Apple Podcasts na iCloud zafunguriwe ibindi bihugu 20 na Apple Music ku bihugu 52.\n",
    "\n",
    "Mu itangazo rya Apple bigaragara ko serivisi zafunguriwe abari mu Rwanda ari App Store, Apple Arcade, Apple Music, Apple Podcasts na iCloud. Izo serivisi zanafunguriwe ibihugu byo muri Afurika nka Cameroon, Côte d’Ivoire, Repubulika Iharanira Demokarasi ya Congo, Gabon, Libya, Maroc na Zambia.\n",
    "\n",
    "Ibihugu byo mu Burayi byafunguriwe izo serivisi kimwe n’u Rwanda birimo Bosnia and Herzegovina, Georgia, Kosovo, Montenegro na Serbia.\n",
    "\n",
    "Visi Perezida wa Apple, Oliver Schusser, yavuze ko bashimishijwe no kuba abantu benshi bashobora gukoresha serivisi za Apple zikundwa cyane, kurusha uko byari bisanzwe.\n",
    "\n",
    "Ati “Twizeye ko abakiliya bacu bazabasha kubona applications bakunda, imikino, umuziki n’amajwi, ari nako dukomeza kwishimira abahanga ba mbere ku Isi mu bugeni no guhanga porogaramu zitandukanye.”\n",
    "\n",
    "Kugeza ubu App Store ifunguye mu bihugu n’uturere 175, ikaba ari ahantu hizewe wamanura application runaka ukeneye mu gikoresho cya Apple. Ni n’inzira izafasha abahanga porogaramu z’ikoranabuhanga mu Rwanda kuzisangiza abandi hirya no hino ku Isi.\n",
    "\n",
    "Apple Arcade yo ni porogaramu usanga muri App Store, ifasha abantu kubona imikino itandukanye ku ifatabuguzi bishyura, bakabona imikino yihariye isaga 100, yose bashobora gukina bakoresheje iPhone, iPad, iPod touch, Mac na Apple TV. Apple Arcade kandi igenda yongera imikino iyibonekaho nibura buri kwezi uko igenda ihangwa.\n",
    "\n",
    "Apple Music ni indi serivisi ifasha abantu kumva umuziki ugezweho, ishobora gukoreshwa mu bihugu 167, ikabonekaho indirimbo zisaga miliyoni 60.\n",
    "\n",
    "Apple yakomeje iti “Abantu batangira gukoresha Apple Music mu bihugu 52 bishya, baraza guhabwa serivisi y’ubuntu y’amezi atandatu y’igerageza, ku rukurikirane rw’umuziki urimo uwo muri ibyo bihugu nka Africa Now, Afrobeats Hits, Ghana Bounce n’izindi.”\n",
    "\n",
    "Hari na Apple Podcasts, ahantu ushobora kumva ibiganiro bisaga miliyoni imwe mu ndimi zirenga 100 mu bihugu bisaga 175.\n",
    "\n",
    "Muri izo serivisi harimo na iCloud, ari nayo ituma igikoresho cyifashisha ikoranabuhanga rijyanye n’igihe, kubika ibintu binyuranye nk’amafoto, inyandiko, gukora ububiko bw’inyongera (back up) haba kuri iPhone, iPad na iPod touch, ndetse ni nayo itanga uburyo buzwi nka “Find My”, ifasha kureba ahantu igikoresho cyawe giherereye igihe cyibwe cyangwa cyatakaye.\n",
    "\n",
    "Ubusanzwe nk’abakoresha iPhone mu Rwanda, kenshi byabasabaga gushyiramo ko bari muri Uganda cyangwa mu bindi bihugu kugira ngo babashe gukoresha iCloud.\n",
    "\n",
    "Uru ruganda rukora ibikoresho byihagazeho mu ikoranabuhanga, ruheruka kumurika iPhone nshya zo mu bwoko bwa iPhone SE, zisimbura izindi z’ubwo bwoko zashyizwe ku isoko mu 2016.\n",
    "\n",
    "Iyi iPhone SE igurishwa guhera ku $399, amafaranga make cyane ugereranyije na iPhone 11 igurwa guhera ku giciro cy’ibanze cya $699 na iPhone 11 Pro Max igurwa ku giciro gihera ku $1099.\n",
    "\n",
    "'''\n",
    "j_summary_ideal = '''\n",
    "Mu itangazo rya Apple bigaragara ko serivisi zafunguriwe abari mu Rwanda ari App Store, Apple Arcade, Apple Music, Apple Podcasts na iCloud.\n",
    "Ibihugu byo mu Burayi byafunguriwe izo serivisi kimwe n’u Rwanda birimo Bosnia and Herzegovina, Georgia, Kosovo, Montenegro na Serbia.\n",
    "Kugeza ubu App Store ifunguye mu bihugu n’uturere 175, ikaba ari ahantu hizewe wamanura application runaka ukeneye mu gikoresho cya Apple. \n",
    "'''\n",
    "j_summary_word_frequency = summarize_text_(j_title, j_text, 0.2, stopwords, True, True)\n",
    "a2_body"
   ]
  },
  {
   "cell_type": "code",
   "execution_count": 30,
   "metadata": {},
   "outputs": [
    {
     "data": {
      "text/plain": [
       "'Alibaba imenyerewe mu bucuruzi bwo kuri internet, yatangije serivisi y’ikoranabuhanga yo gusuzuma uburwayi ku buntu, hagamijwe kugabanya igitutu ku bitaro kirimo guturuka ku ikwirakwira rya virusi ya Coronavirus.\\nAlibaba imenyerewe mu bucuruzi bwo kuri internet, yatangije serivisi y’ikoranabuhanga yo gusuzuma uburwayi ku buntu, hagamijwe kugabanya igitutu ku bitaro kirimo guturuka ku ikwirakwira rya virusi ya Coronavirus.\\nAbakoresha iyi serivisi bazajya babasha gusuzumwa banabone amakuru kuri iki cyorezo ku gihe, hirya no hino mu gihugu binyuze ku rubuga rwa Alibaba ruzwi nka Taobao cyangwa kuri application ya telefoni yo kwishyuriraho yitwa Alipay.\\nAmagana y’abaganga bo hirya no hino mu gihugu barimo gutanga serivisi zo gusuzuma binyuze kuri iyi application, aho muri bo abarenga 70%, ari inzobere mu bijyanye n’indwara z’ubuhumekero n’ubuvuzi rusange.\\nKugera Saa Sita z’amanywa zo ku cyumweru, iyi serivisi yari imaze kwakira hafi abantu 400 000, nyuma y’amasaha 24 itangijwe. Abagera kuri 97% byabo ni abo mu ntara ya Hubei mu Bushinwa aho icyorezo cya Coronavirus, cyugarije cyane.\\nAbarenga 90% barabaza ku buryo bwo kwirinda no kwivuza icyorezo cya Coronavirus n’ibihaha.\\nIkigo Alibaba cyashinzwe mu 1999 n’umuherwe w’Umushinwa, Jack Ma, ubu kikaba kibarirwa mu gaciro ka miliyari 460 z’amadolari.\\n'"
      ]
     },
     "execution_count": 30,
     "metadata": {},
     "output_type": "execute_result"
    }
   ],
   "source": [
    "a1_body"
   ]
  },
  {
   "cell_type": "code",
   "execution_count": 31,
   "metadata": {},
   "outputs": [],
   "source": [
    "al_summary_ideal = \"\"\"\n",
    "Alibaba imenyerewe mu bucuruzi bwo kuri internet, yatangije serivisi y’ikoranabuhanga yo gusuzuma uburwayi ku buntu, hagamijwe kugabanya igitutu ku bitaro kirimo guturuka ku ikwirakwira rya virusi ya Coronavirus. Abakoresha iyi serivisi bazajya babasha gusuzumwa banabone amakuru kuri iki cyorezo ku gihe, hirya no hino mu gihugu binyuze ku rubuga rwa Alibaba ruzwi nka Taobao cyangwa kuri application ya telefoni yo kwishyuriraho yitwa Alipay. Kugera Saa Sita z’amanywa zo ku cyumweru, iyi serivisi yari imaze kwakira hafi abantu 400 000, nyuma y’amasaha 24 itangijwe.\n",
    "\"\"\"\n",
    "a2_summary_ideal = \"\"\"\n",
    "Isoko rya telefone zigezweho muri Afurika y’Iburasirazuba (EAC) biteganyijwe ko rizagabanyuka ku kigero cya 12% mu mezi atatu ya mbere ya 2020 na 3% mu mezi atatu azakurikiraho. Ibyo bivuze ko telefone za smartphone zinjira mu karere zizaba nke, igiciro cyazo kikazamuka kubera ibibazo biri mu gutumiza ibikoresho by’ikoranabuhanga bitewe n’icyorezo cya coronavirus. Bagaragaza ko coronavirus ishobora no kugira ingaruka ku gushyira hanze telefone nshya kuko hari bimwe mu bikoresho byifashishwa mu gukora telefone bitari kubasha kugera ku nganda kuko biva hanze y’u Bushinwa.\n",
    "\"\"\""
   ]
  },
  {
   "cell_type": "code",
   "execution_count": 32,
   "metadata": {},
   "outputs": [
    {
     "data": {
      "text/plain": [
       "3"
      ]
     },
     "execution_count": 32,
     "metadata": {},
     "output_type": "execute_result"
    }
   ],
   "source": [
    "len(sent_tokenize(a2_summary_ideal))\n"
   ]
  },
  {
   "cell_type": "markdown",
   "metadata": {},
   "source": [
    "# Word Frequency Summarization\n",
    "\n",
    "## Summarization For  Article 1"
   ]
  },
  {
   "cell_type": "code",
   "execution_count": 33,
   "metadata": {
    "scrolled": true
   },
   "outputs": [
    {
     "data": {
      "text/plain": [
       "7"
      ]
     },
     "execution_count": 33,
     "metadata": {},
     "output_type": "execute_result"
    }
   ],
   "source": [
    "len(list(dict.fromkeys(sent_tokenize(a1_body))))"
   ]
  },
  {
   "cell_type": "code",
   "execution_count": 34,
   "metadata": {},
   "outputs": [
    {
     "name": "stdout",
     "output_type": "stream",
     "text": [
      "selected sentences: [0, 5, 1]\n"
     ]
    }
   ],
   "source": [
    "a1_summary_wff = summarize_text_(a1_title, a1_body, 0.5, stopwords, False, False)"
   ]
  },
  {
   "cell_type": "code",
   "execution_count": 35,
   "metadata": {},
   "outputs": [
    {
     "name": "stdout",
     "output_type": "stream",
     "text": [
      "selected sentences: [0, 6, 1]\n"
     ]
    }
   ],
   "source": [
    "a1_summary_wtf = summarize_text_(a1_title, a1_body, 0.5, stopwords, True, False)"
   ]
  },
  {
   "cell_type": "code",
   "execution_count": 36,
   "metadata": {},
   "outputs": [
    {
     "name": "stdout",
     "output_type": "stream",
     "text": [
      "selected sentences: [0, 1, 2]\n"
     ]
    }
   ],
   "source": [
    "a1_summary_wft = summarize_text_(a1_title, a1_body, 0.5, stopwords, False, True)"
   ]
  },
  {
   "cell_type": "code",
   "execution_count": 37,
   "metadata": {
    "scrolled": true
   },
   "outputs": [
    {
     "name": "stdout",
     "output_type": "stream",
     "text": [
      "selected sentences: [0, 1, 2]\n"
     ]
    }
   ],
   "source": [
    "a1_summary_wtt = summarize_text_(a1_title, a1_body, 0.5, stopwords, True, True)"
   ]
  },
  {
   "cell_type": "markdown",
   "metadata": {},
   "source": [
    "# Word Frequency Summarization\n",
    "\n",
    "## Summarization For  Article 2"
   ]
  },
  {
   "cell_type": "code",
   "execution_count": 38,
   "metadata": {
    "scrolled": true
   },
   "outputs": [
    {
     "data": {
      "text/plain": [
       "12"
      ]
     },
     "execution_count": 38,
     "metadata": {},
     "output_type": "execute_result"
    }
   ],
   "source": [
    "len(list(dict.fromkeys(sent_tokenize(a2_body))))"
   ]
  },
  {
   "cell_type": "code",
   "execution_count": 39,
   "metadata": {},
   "outputs": [
    {
     "name": "stdout",
     "output_type": "stream",
     "text": [
      "selected sentences: [10, 0, 5]\n"
     ]
    }
   ],
   "source": [
    "a2_summary_wff = summarize_text_(a2_title, a2_body, 0.3, stopwords, False, False)"
   ]
  },
  {
   "cell_type": "code",
   "execution_count": 40,
   "metadata": {},
   "outputs": [
    {
     "name": "stdout",
     "output_type": "stream",
     "text": [
      "selected sentences: [0, 10, 4]\n"
     ]
    }
   ],
   "source": [
    "a2_summary_wtf = summarize_text_(a2_title, a2_body, 0.3, stopwords, True, False)"
   ]
  },
  {
   "cell_type": "code",
   "execution_count": 41,
   "metadata": {},
   "outputs": [
    {
     "name": "stdout",
     "output_type": "stream",
     "text": [
      "selected sentences: [0, 10, 5]\n"
     ]
    }
   ],
   "source": [
    "a2_summary_wft = summarize_text_(a2_title, a2_body, 0.3, stopwords, False, True)"
   ]
  },
  {
   "cell_type": "code",
   "execution_count": 42,
   "metadata": {},
   "outputs": [
    {
     "name": "stdout",
     "output_type": "stream",
     "text": [
      "selected sentences: [0, 10, 4]\n"
     ]
    }
   ],
   "source": [
    "a2_summary_wtt = summarize_text_(a2_title, a2_body, 0.3, stopwords, True, True)"
   ]
  },
  {
   "cell_type": "markdown",
   "metadata": {},
   "source": [
    "# TF-IDF Summarization\n",
    "\n",
    "## Summarization For  Article 1"
   ]
  },
  {
   "cell_type": "code",
   "execution_count": 67,
   "metadata": {
    "scrolled": true
   },
   "outputs": [
    {
     "data": {
      "text/plain": [
       "7"
      ]
     },
     "execution_count": 67,
     "metadata": {},
     "output_type": "execute_result"
    }
   ],
   "source": [
    "len(list(dict.fromkeys(sent_tokenize(a1_body))))"
   ]
  },
  {
   "cell_type": "code",
   "execution_count": 68,
   "metadata": {},
   "outputs": [
    {
     "name": "stdout",
     "output_type": "stream",
     "text": [
      "selected sentences: [0, 3, 6]\n"
     ]
    }
   ],
   "source": [
    "a1_summary_tdff = summariza_tfidf(a1_title, a1_body, 0.5, stopwords, score_title=False, score_position=False)"
   ]
  },
  {
   "cell_type": "code",
   "execution_count": 69,
   "metadata": {},
   "outputs": [
    {
     "name": "stdout",
     "output_type": "stream",
     "text": [
      "selected sentences: [0, 1, 6]\n"
     ]
    }
   ],
   "source": [
    "a1_summary_tdtf = summariza_tfidf(a1_title, a1_body, 0.5, stopwords, score_title=True, score_position=False)"
   ]
  },
  {
   "cell_type": "code",
   "execution_count": 70,
   "metadata": {},
   "outputs": [
    {
     "name": "stdout",
     "output_type": "stream",
     "text": [
      "selected sentences: [0, 1, 2]\n"
     ]
    }
   ],
   "source": [
    "a1_summary_tdft = summariza_tfidf(a1_title, a1_body, 0.5, stopwords, score_title=False, score_position=True)"
   ]
  },
  {
   "cell_type": "code",
   "execution_count": 71,
   "metadata": {},
   "outputs": [
    {
     "name": "stdout",
     "output_type": "stream",
     "text": [
      "selected sentences: [0, 1, 2]\n"
     ]
    }
   ],
   "source": [
    "a1_summary_tdtt = summariza_tfidf(a1_title, a1_body, 0.5, stopwords, score_title=True, score_position=True)"
   ]
  },
  {
   "cell_type": "markdown",
   "metadata": {},
   "source": [
    "## Article 2"
   ]
  },
  {
   "cell_type": "code",
   "execution_count": 72,
   "metadata": {},
   "outputs": [
    {
     "name": "stdout",
     "output_type": "stream",
     "text": [
      "selected sentences: [2, 6, 7]\n"
     ]
    }
   ],
   "source": [
    "a2_summary_tdff = summariza_tfidf(a2_title, a2_body, 0.3, stopwords, score_title=False, score_position=False)"
   ]
  },
  {
   "cell_type": "code",
   "execution_count": 73,
   "metadata": {},
   "outputs": [
    {
     "name": "stdout",
     "output_type": "stream",
     "text": [
      "selected sentences: [0, 2, 4]\n"
     ]
    }
   ],
   "source": [
    "a2_summary_tdtf = summariza_tfidf(a2_title, a2_body, 0.3, stopwords, score_title=True, score_position=False)"
   ]
  },
  {
   "cell_type": "code",
   "execution_count": 134,
   "metadata": {},
   "outputs": [
    {
     "name": "stdout",
     "output_type": "stream",
     "text": [
      "selected sentences: [1, 2, 7]\n"
     ]
    },
    {
     "data": {
      "text/plain": [
       "'Ibyo bivuze ko telefone za smartphone zinjira mu karere zizaba nke, igiciro cyazo kikazamuka kubera ibibazo biri mu gutumiza ibikoresho by’ikoranabuhanga bitewe n’icyorezo cya coronavirus. Biteganyijwe ko isoko rizakomeza kugenda nabi mu mezi atandatu ya 2020, ibintu bizasubira mu buryo mu gihembwe cya gatatu n’icya Kane by’umwaka nabwo nihagira igikorwa ngo icyorezo gihagarikwe, ubucuruzi busubire uko bwahoze. Uretse telefone kandi n’ibindi byuma by’ikoranabuhanga nka televiziyo, firigo n’bindi bizahenda kuko abari bafite ububiko bwabyo mbere y’uko icyorezo cya coronavirus gikwirakwira, ubu mu bubiko bigiye gushira.'"
      ]
     },
     "execution_count": 134,
     "metadata": {},
     "output_type": "execute_result"
    }
   ],
   "source": [
    "a2_summary_tdft = summariza_tfidf(a2_title, a2_body, 0.3, stopwords, score_title=False, score_position=True)\n",
    "a2_summary_tdft"
   ]
  },
  {
   "cell_type": "code",
   "execution_count": 75,
   "metadata": {},
   "outputs": [
    {
     "name": "stdout",
     "output_type": "stream",
     "text": [
      "selected sentences: [0, 1, 2]\n"
     ]
    }
   ],
   "source": [
    "a2_summary_tdtt = summariza_tfidf(a2_title, a2_body, 0.3, stopwords, score_title=True, score_position=True)"
   ]
  },
  {
   "cell_type": "markdown",
   "metadata": {},
   "source": [
    "# Summarization with TextRank\n",
    "## article 1"
   ]
  },
  {
   "cell_type": "code",
   "execution_count": 76,
   "metadata": {},
   "outputs": [
    {
     "name": "stdout",
     "output_type": "stream",
     "text": [
      "selected sentences: [0, 1, 2]\n"
     ]
    }
   ],
   "source": [
    "a1_summary_tr = summariza_textrank(a1_body, 0.5, stopwords=stopwords)"
   ]
  },
  {
   "cell_type": "markdown",
   "metadata": {},
   "source": [
    "## article 2"
   ]
  },
  {
   "cell_type": "code",
   "execution_count": 77,
   "metadata": {},
   "outputs": [
    {
     "name": "stdout",
     "output_type": "stream",
     "text": [
      "selected sentences: [0, 5, 6]\n"
     ]
    }
   ],
   "source": [
    "a2_summary_tr = summariza_textrank(a2_body, 0.2, stopwords=stopwords)"
   ]
  },
  {
   "cell_type": "markdown",
   "metadata": {},
   "source": [
    "## 1. Summarization using Word Frequency"
   ]
  },
  {
   "cell_type": "code",
   "execution_count": 78,
   "metadata": {},
   "outputs": [],
   "source": [
    "from lib.stopwords import STOPWORDS\n",
    "from lib.summariza_word_frequency import summariza_word_frequency"
   ]
  },
  {
   "cell_type": "code",
   "execution_count": 79,
   "metadata": {},
   "outputs": [
    {
     "name": "stdout",
     "output_type": "stream",
     "text": [
      "['alibaba', 'yatangije', 'kwisuzumisha', 'indwara', 'buntu']\n",
      "0.22641509433962265\n",
      "0.13852813852813853\n",
      "0.12682926829268293\n",
      "0.12903225806451613\n",
      "0.12264150943396226\n",
      "0.14444444444444443\n",
      "0.136\n",
      "selected sentences: [0, 5]\n"
     ]
    }
   ],
   "source": [
    "summary_txt1 = summariza_word_frequency(a1_title, a1_body, 0.4, stopwords, score_title=True, score_position=True)"
   ]
  },
  {
   "cell_type": "code",
   "execution_count": 80,
   "metadata": {},
   "outputs": [
    {
     "data": {
      "text/plain": [
       "'Alibaba imenyerewe mu bucuruzi bwo kuri internet, yatangije serivisi y’ikoranabuhanga yo gusuzuma uburwayi ku buntu, hagamijwe kugabanya igitutu ku bitaro kirimo guturuka ku ikwirakwira rya virusi ya Coronavirus. Abarenga 90% barabaza ku buryo bwo kwirinda no kwivuza icyorezo cya Coronavirus n’ibihaha.'"
      ]
     },
     "execution_count": 80,
     "metadata": {},
     "output_type": "execute_result"
    }
   ],
   "source": [
    "summary_txt1"
   ]
  },
  {
   "cell_type": "code",
   "execution_count": 81,
   "metadata": {},
   "outputs": [
    {
     "name": "stdout",
     "output_type": "stream",
     "text": [
      "['alibaba', 'yatangije', 'kwisuzumisha', 'indwara', 'buntu']\n",
      "0.20754716981132076\n",
      "0.12987012987012986\n",
      "0.12195121951219512\n",
      "0.12903225806451613\n",
      "0.12264150943396226\n",
      "0.14444444444444443\n",
      "0.128\n",
      "selected sentences: [0, 5, 1]\n"
     ]
    }
   ],
   "source": [
    "summary_txt2 = summariza_word_frequency(a1_title, a1_body, 0.5, stopwords, score_title=False, score_position=False)"
   ]
  },
  {
   "cell_type": "code",
   "execution_count": 82,
   "metadata": {},
   "outputs": [
    {
     "data": {
      "text/plain": [
       "'Alibaba imenyerewe mu bucuruzi bwo kuri internet, yatangije serivisi y’ikoranabuhanga yo gusuzuma uburwayi ku buntu, hagamijwe kugabanya igitutu ku bitaro kirimo guturuka ku ikwirakwira rya virusi ya Coronavirus. Abakoresha iyi serivisi bazajya babasha gusuzumwa banabone amakuru kuri iki cyorezo ku gihe, hirya no hino mu gihugu binyuze ku rubuga rwa Alibaba ruzwi nka Taobao cyangwa kuri application ya telefoni yo kwishyuriraho yitwa Alipay. Abarenga 90% barabaza ku buryo bwo kwirinda no kwivuza icyorezo cya Coronavirus n’ibihaha.'"
      ]
     },
     "execution_count": 82,
     "metadata": {},
     "output_type": "execute_result"
    }
   ],
   "source": [
    "summary_txt2"
   ]
  },
  {
   "cell_type": "markdown",
   "metadata": {},
   "source": [
    "## 2. Summarization using TF-IDF"
   ]
  },
  {
   "cell_type": "code",
   "execution_count": 83,
   "metadata": {},
   "outputs": [],
   "source": [
    "from lib.summariza_tfidf import summariza_tfidf"
   ]
  },
  {
   "cell_type": "code",
   "execution_count": 84,
   "metadata": {},
   "outputs": [
    {
     "name": "stdout",
     "output_type": "stream",
     "text": [
      "selected sentences: [0, 3, 6]\n"
     ]
    }
   ],
   "source": [
    "summary_txt2 = summariza_tfidf(a1_title, a1_body, 0.5, stopwords, score_title=False, score_position=False)"
   ]
  },
  {
   "cell_type": "code",
   "execution_count": 85,
   "metadata": {},
   "outputs": [],
   "source": [
    "from summarize.summary import build_summary_using_tfidf"
   ]
  },
  {
   "cell_type": "code",
   "execution_count": 86,
   "metadata": {},
   "outputs": [
    {
     "name": "stdout",
     "output_type": "stream",
     "text": [
      "['yitwa', 'yatangije', 'virusi', 'umushinwa', 'umuherwe', 'ubuvuzi', 'uburwayi', 'ubuhumekero', 'telefoni', 'taobao']\n",
      "score: 3.103520709777833\n",
      "score: 3.103520709777833\n",
      "score: 2.1160368475757947\n",
      "score: 1.763364039646496\n",
      "score: 1.1285529853737573\n",
      "score: 0.9169493006161777\n",
      "score: 0.9169493006161777\n",
      "score: 1.128552985373757\n"
     ]
    },
    {
     "ename": "TypeError",
     "evalue": "'float' object cannot be interpreted as an integer",
     "output_type": "error",
     "traceback": [
      "\u001b[0;31m---------------------------------------------------------------------------\u001b[0m",
      "\u001b[0;31mTypeError\u001b[0m                                 Traceback (most recent call last)",
      "\u001b[0;32m<ipython-input-86-7d6ea8527777>\u001b[0m in \u001b[0;36m<module>\u001b[0;34m\u001b[0m\n\u001b[0;32m----> 1\u001b[0;31m \u001b[0msummary_tfidf\u001b[0m \u001b[0;34m=\u001b[0m \u001b[0mbuild_summary_using_tfidf\u001b[0m\u001b[0;34m(\u001b[0m\u001b[0ma1_body\u001b[0m\u001b[0;34m,\u001b[0m \u001b[0mstopwords\u001b[0m\u001b[0;34m,\u001b[0m \u001b[0;36m0.4\u001b[0m\u001b[0;34m)\u001b[0m\u001b[0;34m\u001b[0m\u001b[0;34m\u001b[0m\u001b[0m\n\u001b[0m",
      "\u001b[0;32m~/workspace/summariza/summarize/summary.py\u001b[0m in \u001b[0;36mbuild_summary_using_tfidf\u001b[0;34m(text, stopwords, nsentences)\u001b[0m\n\u001b[1;32m     21\u001b[0m         \u001b[0mprint\u001b[0m\u001b[0;34m(\u001b[0m\u001b[0;34mf'score: {sentence_scores[score]}'\u001b[0m\u001b[0;34m)\u001b[0m\u001b[0;34m\u001b[0m\u001b[0;34m\u001b[0m\u001b[0m\n\u001b[1;32m     22\u001b[0m     \u001b[0msorted_sentences\u001b[0m \u001b[0;34m=\u001b[0m \u001b[0mget_sorted_sentences\u001b[0m\u001b[0;34m(\u001b[0m\u001b[0msentence_scores\u001b[0m\u001b[0;34m)\u001b[0m\u001b[0;34m\u001b[0m\u001b[0;34m\u001b[0m\u001b[0m\n\u001b[0;32m---> 23\u001b[0;31m     \u001b[0mtop_sentences\u001b[0m \u001b[0;34m=\u001b[0m \u001b[0msorted\u001b[0m\u001b[0;34m(\u001b[0m\u001b[0mget_top_sentences\u001b[0m\u001b[0;34m(\u001b[0m\u001b[0msorted_sentences\u001b[0m\u001b[0;34m,\u001b[0m \u001b[0mnsentences\u001b[0m\u001b[0;34m)\u001b[0m\u001b[0;34m)\u001b[0m\u001b[0;34m\u001b[0m\u001b[0;34m\u001b[0m\u001b[0m\n\u001b[0m\u001b[1;32m     24\u001b[0m     \u001b[0mprint\u001b[0m\u001b[0;34m(\u001b[0m\u001b[0;34mf'Chosen sentences: {top_sentences}'\u001b[0m\u001b[0;34m)\u001b[0m\u001b[0;34m\u001b[0m\u001b[0;34m\u001b[0m\u001b[0m\n\u001b[1;32m     25\u001b[0m     \u001b[0mbuild_summary\u001b[0m\u001b[0;34m(\u001b[0m\u001b[0msentences\u001b[0m\u001b[0;34m,\u001b[0m \u001b[0msorted\u001b[0m\u001b[0;34m(\u001b[0m\u001b[0mtop_sentences\u001b[0m\u001b[0;34m)\u001b[0m\u001b[0;34m)\u001b[0m\u001b[0;34m\u001b[0m\u001b[0;34m\u001b[0m\u001b[0m\n",
      "\u001b[0;32m~/workspace/summariza/summarize/utils.py\u001b[0m in \u001b[0;36mget_top_sentences\u001b[0;34m(sentences, nsentences)\u001b[0m\n\u001b[1;32m     56\u001b[0m \u001b[0;32mdef\u001b[0m \u001b[0mget_top_sentences\u001b[0m\u001b[0;34m(\u001b[0m\u001b[0msentences\u001b[0m\u001b[0;34m,\u001b[0m \u001b[0mnsentences\u001b[0m\u001b[0;34m)\u001b[0m\u001b[0;34m:\u001b[0m\u001b[0;34m\u001b[0m\u001b[0;34m\u001b[0m\u001b[0m\n\u001b[1;32m     57\u001b[0m     \u001b[0mtop_sentences\u001b[0m \u001b[0;34m=\u001b[0m \u001b[0;34m[\u001b[0m\u001b[0;34m]\u001b[0m\u001b[0;34m\u001b[0m\u001b[0;34m\u001b[0m\u001b[0m\n\u001b[0;32m---> 58\u001b[0;31m     \u001b[0;32mfor\u001b[0m \u001b[0mn\u001b[0m \u001b[0;32min\u001b[0m \u001b[0mrange\u001b[0m\u001b[0;34m(\u001b[0m\u001b[0;36m0\u001b[0m\u001b[0;34m,\u001b[0m \u001b[0mnsentences\u001b[0m\u001b[0;34m)\u001b[0m\u001b[0;34m:\u001b[0m\u001b[0;34m\u001b[0m\u001b[0;34m\u001b[0m\u001b[0m\n\u001b[0m\u001b[1;32m     59\u001b[0m         \u001b[0mtop_sentences\u001b[0m\u001b[0;34m.\u001b[0m\u001b[0mappend\u001b[0m\u001b[0;34m(\u001b[0m\u001b[0msentences\u001b[0m\u001b[0;34m[\u001b[0m\u001b[0mn\u001b[0m\u001b[0;34m]\u001b[0m\u001b[0;34m[\u001b[0m\u001b[0;36m0\u001b[0m\u001b[0;34m]\u001b[0m\u001b[0;34m)\u001b[0m\u001b[0;34m\u001b[0m\u001b[0;34m\u001b[0m\u001b[0m\n\u001b[1;32m     60\u001b[0m     \u001b[0;32mreturn\u001b[0m \u001b[0mtop_sentences\u001b[0m\u001b[0;34m\u001b[0m\u001b[0;34m\u001b[0m\u001b[0m\n",
      "\u001b[0;31mTypeError\u001b[0m: 'float' object cannot be interpreted as an integer"
     ]
    }
   ],
   "source": [
    "summary_tfidf = build_summary_using_tfidf(a1_body, stopwords, 0.4)"
   ]
  },
  {
   "cell_type": "code",
   "execution_count": 87,
   "metadata": {},
   "outputs": [],
   "source": [
    "from lib.summariza_textrank import summariza_textrank"
   ]
  },
  {
   "cell_type": "code",
   "execution_count": 88,
   "metadata": {},
   "outputs": [
    {
     "name": "stdout",
     "output_type": "stream",
     "text": [
      "selected sentences: [0, 1, 2]\n"
     ]
    }
   ],
   "source": [
    "summary_textrank = summariza_textrank(a1_body, 0.5, stopwords=stopwords)"
   ]
  },
  {
   "cell_type": "code",
   "execution_count": 89,
   "metadata": {},
   "outputs": [
    {
     "data": {
      "text/plain": [
       "'Alibaba imenyerewe mu bucuruzi bwo kuri internet, yatangije serivisi y’ikoranabuhanga yo gusuzuma uburwayi ku buntu, hagamijwe kugabanya igitutu ku bitaro kirimo guturuka ku ikwirakwira rya virusi ya Coronavirus. Abakoresha iyi serivisi bazajya babasha gusuzumwa banabone amakuru kuri iki cyorezo ku gihe, hirya no hino mu gihugu binyuze ku rubuga rwa Alibaba ruzwi nka Taobao cyangwa kuri application ya telefoni yo kwishyuriraho yitwa Alipay. Amagana y’abaganga bo hirya no hino mu gihugu barimo gutanga serivisi zo gusuzuma binyuze kuri iyi application, aho muri bo abarenga 70%, ari inzobere mu bijyanye n’indwara z’ubuhumekero n’ubuvuzi rusange'"
      ]
     },
     "execution_count": 89,
     "metadata": {},
     "output_type": "execute_result"
    }
   ],
   "source": [
    "summary_textrank"
   ]
  },
  {
   "cell_type": "code",
   "execution_count": 90,
   "metadata": {},
   "outputs": [],
   "source": [
    "from rouge_score import rouge_scorer"
   ]
  },
  {
   "cell_type": "code",
   "execution_count": 114,
   "metadata": {},
   "outputs": [],
   "source": [
    "scorer = rouge_scorer.RougeScorer(['rouge1', 'rouge2','rougeL'])"
   ]
  },
  {
   "cell_type": "code",
   "execution_count": 115,
   "metadata": {},
   "outputs": [],
   "source": [
    "# scores for word frequency based summarization on article 1\n",
    "scores_a1_wf_ff = scorer.score(str(a1_summary_wff),\n",
    "                      str(al_summary_ideal))\n",
    "scores_a1_wf_tf = scorer.score(str(a1_summary_wtf),\n",
    "                      str(al_summary_ideal))\n",
    "scores_a1_wf_ft = scorer.score(str(a1_summary_wft),\n",
    "                      str(al_summary_ideal))\n",
    "scores_a1_wf_tt = scorer.score(str(a1_summary_wtt),\n",
    "                      str(al_summary_ideal))\n",
    "\n",
    "# scores for word frequency based summarization on article 2\n",
    "scores_a2_wf_ff = scorer.score(str(a2_summary_wff),\n",
    "                      str(a2_summary_ideal))\n",
    "scores_a2_wf_tf = scorer.score(str(a2_summary_wtf),\n",
    "                      str(a2_summary_ideal))\n",
    "scores_a2_wf_ft = scorer.score(str(a2_summary_wft),\n",
    "                      str(a2_summary_ideal))\n",
    "scores_a2_wf_tt = scorer.score(str(a2_summary_wtt),\n",
    "                      str(a2_summary_ideal))\n",
    "\n",
    "# scores for tfidf based summarization on article 1\n",
    "scores_a1_td_ff = scorer.score(str(a1_summary_tdff),\n",
    "                      str(al_summary_ideal))\n",
    "scores_a1_td_tf = scorer.score(str(a1_summary_tdtf),\n",
    "                      str(al_summary_ideal))\n",
    "scores_a1_td_ft = scorer.score(str(a1_summary_tdft),\n",
    "                      str(al_summary_ideal))\n",
    "scores_a1_td_tt = scorer.score(str(a1_summary_tdtt),\n",
    "                      str(al_summary_ideal))\n",
    "\n",
    "# scores for tfidf  based summarization on article 2\n",
    "scores_a2_td_ff = scorer.score(str(a2_summary_tdff),\n",
    "                      str(a2_summary_ideal))\n",
    "scores_a2_td_tf = scorer.score(str(a2_summary_tdtf),\n",
    "                      str(a2_summary_ideal))\n",
    "scores_a2_td_ft = scorer.score(str(a2_summary_tdft),\n",
    "                      str(a2_summary_ideal))\n",
    "scores_a2_td_tt = scorer.score(str(a2_summary_tdtt),\n",
    "                      str(a2_summary_ideal))\n",
    "\n",
    "\n",
    "# scores for textrank based summarization on article 1\n",
    "\n",
    "scores_a1_tr = scorer.score(str(a1_summary_tr),\n",
    "                      str(al_summary_ideal))\n",
    "\n",
    "scores_a2_tr = scorer.score(str(a2_summary_tr),\n",
    "                      str(a2_summary_ideal))\n",
    "\n",
    "# scores = scorer.score(str(j_summary_word_frequency),\n",
    "#                       str(j_summary_ideal))"
   ]
  },
  {
   "cell_type": "code",
   "execution_count": 116,
   "metadata": {},
   "outputs": [
    {
     "data": {
      "text/plain": [
       "{'rouge1': Score(precision=0.7558139534883721, recall=0.8333333333333334, fmeasure=0.7926829268292682),\n",
       " 'rouge2': Score(precision=0.7294117647058823, recall=0.8051948051948052, fmeasure=0.7654320987654321),\n",
       " 'rougeL': Score(precision=0.7441860465116279, recall=0.8205128205128205, fmeasure=0.7804878048780488)}"
      ]
     },
     "execution_count": 116,
     "metadata": {},
     "output_type": "execute_result"
    }
   ],
   "source": [
    "scores_a1_wf_ff"
   ]
  },
  {
   "cell_type": "code",
   "execution_count": 117,
   "metadata": {},
   "outputs": [
    {
     "data": {
      "text/plain": [
       "{'rouge1': Score(precision=0.7558139534883721, recall=0.7647058823529411, fmeasure=0.7602339181286549),\n",
       " 'rouge2': Score(precision=0.7294117647058823, recall=0.7380952380952381, fmeasure=0.7337278106508874),\n",
       " 'rougeL': Score(precision=0.7441860465116279, recall=0.7529411764705882, fmeasure=0.7485380116959064)}"
      ]
     },
     "execution_count": 117,
     "metadata": {},
     "output_type": "execute_result"
    }
   ],
   "source": [
    "scores_a1_wf_tf"
   ]
  },
  {
   "cell_type": "code",
   "execution_count": 118,
   "metadata": {},
   "outputs": [
    {
     "data": {
      "text/plain": [
       "{'rouge1': Score(precision=0.8023255813953488, recall=0.7040816326530612, fmeasure=0.7500000000000001),\n",
       " 'rouge2': Score(precision=0.7411764705882353, recall=0.6494845360824743, fmeasure=0.6923076923076924),\n",
       " 'rougeL': Score(precision=0.7674418604651163, recall=0.673469387755102, fmeasure=0.7173913043478259)}"
      ]
     },
     "execution_count": 118,
     "metadata": {},
     "output_type": "execute_result"
    }
   ],
   "source": [
    "scores_a1_wf_ft"
   ]
  },
  {
   "cell_type": "code",
   "execution_count": 119,
   "metadata": {},
   "outputs": [
    {
     "data": {
      "text/plain": [
       "{'rouge1': Score(precision=0.8023255813953488, recall=0.7040816326530612, fmeasure=0.7500000000000001),\n",
       " 'rouge2': Score(precision=0.7411764705882353, recall=0.6494845360824743, fmeasure=0.6923076923076924),\n",
       " 'rougeL': Score(precision=0.7674418604651163, recall=0.673469387755102, fmeasure=0.7173913043478259)}"
      ]
     },
     "execution_count": 119,
     "metadata": {},
     "output_type": "execute_result"
    }
   ],
   "source": [
    "scores_a1_wf_tt"
   ]
  },
  {
   "cell_type": "code",
   "execution_count": 120,
   "metadata": {},
   "outputs": [
    {
     "data": {
      "text/plain": [
       "{'rouge1': Score(precision=0.38636363636363635, recall=0.5151515151515151, fmeasure=0.44155844155844154),\n",
       " 'rouge2': Score(precision=0.3218390804597701, recall=0.4307692307692308, fmeasure=0.3684210526315789),\n",
       " 'rougeL': Score(precision=0.36363636363636365, recall=0.48484848484848486, fmeasure=0.4155844155844156)}"
      ]
     },
     "execution_count": 120,
     "metadata": {},
     "output_type": "execute_result"
    }
   ],
   "source": [
    "scores_a2_wf_ff"
   ]
  },
  {
   "cell_type": "code",
   "execution_count": 121,
   "metadata": {},
   "outputs": [
    {
     "data": {
      "text/plain": [
       "{'rouge1': Score(precision=0.36363636363636365, recall=0.5245901639344263, fmeasure=0.4295302013422819),\n",
       " 'rouge2': Score(precision=0.3218390804597701, recall=0.4666666666666667, fmeasure=0.380952380952381),\n",
       " 'rougeL': Score(precision=0.36363636363636365, recall=0.5245901639344263, fmeasure=0.4295302013422819)}"
      ]
     },
     "execution_count": 121,
     "metadata": {},
     "output_type": "execute_result"
    }
   ],
   "source": [
    "scores_a2_wf_tf"
   ]
  },
  {
   "cell_type": "code",
   "execution_count": 122,
   "metadata": {},
   "outputs": [
    {
     "data": {
      "text/plain": [
       "{'rouge1': Score(precision=0.38636363636363635, recall=0.5151515151515151, fmeasure=0.44155844155844154),\n",
       " 'rouge2': Score(precision=0.3218390804597701, recall=0.4307692307692308, fmeasure=0.3684210526315789),\n",
       " 'rougeL': Score(precision=0.36363636363636365, recall=0.48484848484848486, fmeasure=0.4155844155844156)}"
      ]
     },
     "execution_count": 122,
     "metadata": {},
     "output_type": "execute_result"
    }
   ],
   "source": [
    "scores_a2_wf_ft"
   ]
  },
  {
   "cell_type": "code",
   "execution_count": 123,
   "metadata": {},
   "outputs": [
    {
     "data": {
      "text/plain": [
       "{'rouge1': Score(precision=0.36363636363636365, recall=0.5245901639344263, fmeasure=0.4295302013422819),\n",
       " 'rouge2': Score(precision=0.3218390804597701, recall=0.4666666666666667, fmeasure=0.380952380952381),\n",
       " 'rougeL': Score(precision=0.36363636363636365, recall=0.5245901639344263, fmeasure=0.4295302013422819)}"
      ]
     },
     "execution_count": 123,
     "metadata": {},
     "output_type": "execute_result"
    }
   ],
   "source": [
    "scores_a2_wf_tt"
   ]
  },
  {
   "cell_type": "code",
   "execution_count": 124,
   "metadata": {},
   "outputs": [
    {
     "data": {
      "text/plain": [
       "{'rouge1': Score(precision=0.6162790697674418, recall=0.7361111111111112, fmeasure=0.6708860759493671),\n",
       " 'rouge2': Score(precision=0.5764705882352941, recall=0.6901408450704225, fmeasure=0.6282051282051282),\n",
       " 'rougeL': Score(precision=0.5930232558139535, recall=0.7083333333333334, fmeasure=0.6455696202531647)}"
      ]
     },
     "execution_count": 124,
     "metadata": {},
     "output_type": "execute_result"
    }
   ],
   "source": [
    "scores_a1_td_ff"
   ]
  },
  {
   "cell_type": "code",
   "execution_count": 125,
   "metadata": {},
   "outputs": [
    {
     "data": {
      "text/plain": [
       "{'rouge1': Score(precision=0.7558139534883721, recall=0.7647058823529411, fmeasure=0.7602339181286549),\n",
       " 'rouge2': Score(precision=0.7411764705882353, recall=0.75, fmeasure=0.7455621301775148),\n",
       " 'rougeL': Score(precision=0.7558139534883721, recall=0.7647058823529411, fmeasure=0.7602339181286549)}"
      ]
     },
     "execution_count": 125,
     "metadata": {},
     "output_type": "execute_result"
    }
   ],
   "source": [
    "scores_a1_td_tf"
   ]
  },
  {
   "cell_type": "code",
   "execution_count": 126,
   "metadata": {},
   "outputs": [
    {
     "data": {
      "text/plain": [
       "{'rouge1': Score(precision=0.8023255813953488, recall=0.7040816326530612, fmeasure=0.7500000000000001),\n",
       " 'rouge2': Score(precision=0.7411764705882353, recall=0.6494845360824743, fmeasure=0.6923076923076924),\n",
       " 'rougeL': Score(precision=0.7674418604651163, recall=0.673469387755102, fmeasure=0.7173913043478259)}"
      ]
     },
     "execution_count": 126,
     "metadata": {},
     "output_type": "execute_result"
    }
   ],
   "source": [
    "scores_a1_td_ft"
   ]
  },
  {
   "cell_type": "code",
   "execution_count": 127,
   "metadata": {},
   "outputs": [
    {
     "data": {
      "text/plain": [
       "{'rouge1': Score(precision=0.8023255813953488, recall=0.7040816326530612, fmeasure=0.7500000000000001),\n",
       " 'rouge2': Score(precision=0.7411764705882353, recall=0.6494845360824743, fmeasure=0.6923076923076924),\n",
       " 'rougeL': Score(precision=0.7674418604651163, recall=0.673469387755102, fmeasure=0.7173913043478259)}"
      ]
     },
     "execution_count": 127,
     "metadata": {},
     "output_type": "execute_result"
    }
   ],
   "source": [
    "scores_a1_td_tt"
   ]
  },
  {
   "cell_type": "code",
   "execution_count": 128,
   "metadata": {},
   "outputs": [
    {
     "data": {
      "text/plain": [
       "{'rouge1': Score(precision=0.36363636363636365, recall=0.3076923076923077, fmeasure=0.33333333333333337),\n",
       " 'rouge2': Score(precision=0.09195402298850575, recall=0.07766990291262135, fmeasure=0.08421052631578947),\n",
       " 'rougeL': Score(precision=0.19318181818181818, recall=0.16346153846153846, fmeasure=0.17708333333333331)}"
      ]
     },
     "execution_count": 128,
     "metadata": {},
     "output_type": "execute_result"
    }
   ],
   "source": [
    "scores_a2_td_ff"
   ]
  },
  {
   "cell_type": "code",
   "execution_count": 129,
   "metadata": {},
   "outputs": [
    {
     "data": {
      "text/plain": [
       "{'rouge1': Score(precision=0.4431818181818182, recall=0.4642857142857143, fmeasure=0.45348837209302323),\n",
       " 'rouge2': Score(precision=0.3218390804597701, recall=0.3373493975903614, fmeasure=0.3294117647058823),\n",
       " 'rougeL': Score(precision=0.4090909090909091, recall=0.42857142857142855, fmeasure=0.4186046511627907)}"
      ]
     },
     "execution_count": 129,
     "metadata": {},
     "output_type": "execute_result"
    }
   ],
   "source": [
    "scores_a2_td_tf"
   ]
  },
  {
   "cell_type": "code",
   "execution_count": 130,
   "metadata": {},
   "outputs": [
    {
     "data": {
      "text/plain": [
       "{'rouge1': Score(precision=0.48863636363636365, recall=0.4673913043478261, fmeasure=0.47777777777777786),\n",
       " 'rouge2': Score(precision=0.3333333333333333, recall=0.31868131868131866, fmeasure=0.3258426966292135),\n",
       " 'rougeL': Score(precision=0.375, recall=0.358695652173913, fmeasure=0.3666666666666666)}"
      ]
     },
     "execution_count": 130,
     "metadata": {},
     "output_type": "execute_result"
    }
   ],
   "source": [
    "scores_a2_td_ft"
   ]
  },
  {
   "cell_type": "code",
   "execution_count": 131,
   "metadata": {},
   "outputs": [
    {
     "data": {
      "text/plain": [
       "{'rouge1': Score(precision=0.6704545454545454, recall=0.6555555555555556, fmeasure=0.6629213483146068),\n",
       " 'rouge2': Score(precision=0.632183908045977, recall=0.6179775280898876, fmeasure=0.625),\n",
       " 'rougeL': Score(precision=0.6704545454545454, recall=0.6555555555555556, fmeasure=0.6629213483146068)}"
      ]
     },
     "execution_count": 131,
     "metadata": {},
     "output_type": "execute_result"
    }
   ],
   "source": [
    "scores_a2_td_tt"
   ]
  },
  {
   "cell_type": "code",
   "execution_count": 132,
   "metadata": {},
   "outputs": [
    {
     "data": {
      "text/plain": [
       "{'rouge1': Score(precision=0.8023255813953488, recall=0.7040816326530612, fmeasure=0.7500000000000001),\n",
       " 'rouge2': Score(precision=0.7411764705882353, recall=0.6494845360824743, fmeasure=0.6923076923076924),\n",
       " 'rougeL': Score(precision=0.7674418604651163, recall=0.673469387755102, fmeasure=0.7173913043478259)}"
      ]
     },
     "execution_count": 132,
     "metadata": {},
     "output_type": "execute_result"
    }
   ],
   "source": [
    "scores_a1_tr"
   ]
  },
  {
   "cell_type": "code",
   "execution_count": 133,
   "metadata": {},
   "outputs": [
    {
     "data": {
      "text/plain": [
       "{'rouge1': Score(precision=0.375, recall=0.5, fmeasure=0.42857142857142855),\n",
       " 'rouge2': Score(precision=0.3218390804597701, recall=0.4307692307692308, fmeasure=0.3684210526315789),\n",
       " 'rougeL': Score(precision=0.36363636363636365, recall=0.48484848484848486, fmeasure=0.4155844155844156)}"
      ]
     },
     "execution_count": 133,
     "metadata": {},
     "output_type": "execute_result"
    }
   ],
   "source": [
    "scores_a2_tr"
   ]
  },
  {
   "cell_type": "code",
   "execution_count": null,
   "metadata": {},
   "outputs": [],
   "source": []
  }
 ],
 "metadata": {
  "kernelspec": {
   "display_name": "Python 3",
   "language": "python",
   "name": "python3"
  },
  "language_info": {
   "codemirror_mode": {
    "name": "ipython",
    "version": 3
   },
   "file_extension": ".py",
   "mimetype": "text/x-python",
   "name": "python",
   "nbconvert_exporter": "python",
   "pygments_lexer": "ipython3",
   "version": "3.7.6"
  }
 },
 "nbformat": 4,
 "nbformat_minor": 4
}
