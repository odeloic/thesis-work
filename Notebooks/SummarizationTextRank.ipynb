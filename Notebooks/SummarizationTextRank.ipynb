{
 "cells": [
  {
   "cell_type": "code",
   "execution_count": 1,
   "metadata": {},
   "outputs": [],
   "source": [
    "from summa.preprocessing.textcleaner import clean_text_by_sentences\n",
    "import os\n",
    "import sys\n",
    "module_path = os.path.abspath(os.path.join('..'))\n",
    "if module_path not in sys.path:\n",
    "    sys.path.append(module_path)"
   ]
  },
  {
   "cell_type": "code",
   "execution_count": 2,
   "metadata": {},
   "outputs": [],
   "source": [
    "import pandas as pd"
   ]
  },
  {
   "cell_type": "code",
   "execution_count": 3,
   "metadata": {},
   "outputs": [],
   "source": [
    "df = pd.read_csv('../Data/Amakuru.csv')\n",
    "df = df.drop_duplicates(subset=\"Title\", keep=\"first\")\n",
    "df = df.dropna(subset=['Category'])"
   ]
  },
  {
   "cell_type": "code",
   "execution_count": 4,
   "metadata": {},
   "outputs": [],
   "source": [
    "text_sample = df['Body'][0]"
   ]
  },
  {
   "cell_type": "code",
   "execution_count": 5,
   "metadata": {},
   "outputs": [
    {
     "data": {
      "text/plain": [
       "1498"
      ]
     },
     "execution_count": 5,
     "metadata": {},
     "output_type": "execute_result"
    }
   ],
   "source": [
    "len(text_sample)"
   ]
  },
  {
   "cell_type": "code",
   "execution_count": 6,
   "metadata": {},
   "outputs": [],
   "source": [
    "cleaned_sentences = clean_text_by_sentences(text_sample)"
   ]
  },
  {
   "cell_type": "code",
   "execution_count": 7,
   "metadata": {},
   "outputs": [
    {
     "data": {
      "text/plain": [
       "\"abashakashatsi bagaragaj ko agakoko gatera igituntu kugira ngo kabeho gakenera intungamubiri zizwi nk'ubutar fer\""
      ]
     },
     "execution_count": 7,
     "metadata": {},
     "output_type": "execute_result"
    }
   ],
   "source": [
    "cleaned_sentences[0].token"
   ]
  },
  {
   "cell_type": "code",
   "execution_count": 8,
   "metadata": {},
   "outputs": [
    {
     "data": {
      "text/plain": [
       "Original unit: 'Abashakashatsi bagaragaje ko agakoko gatera igituntu kugira ngo kabeho, gakenera intungamubiri zizwi nk’ubutare (fer).' *-*-*-* Processed unit: 'abashakashatsi bagaragaj ko agakoko gatera igituntu kugira ngo kabeho gakenera intungamubiri zizwi nk'ubutar fer'"
      ]
     },
     "execution_count": 8,
     "metadata": {},
     "output_type": "execute_result"
    }
   ],
   "source": [
    "cleaned_sentences[0]"
   ]
  },
  {
   "cell_type": "code",
   "execution_count": 9,
   "metadata": {},
   "outputs": [],
   "source": [
    "from summa.commons import build_graph\n",
    "import networkx as nx\n",
    "import networkx.drawing\n",
    "import matplotlib.pyplot as plt"
   ]
  },
  {
   "cell_type": "code",
   "execution_count": 10,
   "metadata": {},
   "outputs": [
    {
     "data": {
      "text/plain": [
       "<networkx.classes.graph.Graph at 0xa23f6eb50>"
      ]
     },
     "execution_count": 10,
     "metadata": {},
     "output_type": "execute_result"
    }
   ],
   "source": [
    "graph = build_graph([sentence.token for sentence in cleaned_sentences])\n",
    "G = nx.Graph()\n",
    "G"
   ]
  },
  {
   "cell_type": "code",
   "execution_count": 11,
   "metadata": {},
   "outputs": [],
   "source": [
    "graph.nodes()\n",
    "G.add_nodes_from(graph.nodes())"
   ]
  },
  {
   "cell_type": "code",
   "execution_count": 12,
   "metadata": {},
   "outputs": [
    {
     "data": {
      "text/plain": [
       "[]"
      ]
     },
     "execution_count": 12,
     "metadata": {},
     "output_type": "execute_result"
    }
   ],
   "source": [
    "graph.edges()"
   ]
  },
  {
   "cell_type": "code",
   "execution_count": 13,
   "metadata": {},
   "outputs": [
    {
     "data": {
      "text/plain": [
       "<bound method Graph.has_edge of <summa.graph.Graph object at 0xa23d26e50>>"
      ]
     },
     "execution_count": 13,
     "metadata": {},
     "output_type": "execute_result"
    }
   ],
   "source": [
    "graph.has_edge"
   ]
  },
  {
   "cell_type": "code",
   "execution_count": 14,
   "metadata": {},
   "outputs": [],
   "source": [
    "from summa.summarizer import _set_graph_edge_weights"
   ]
  },
  {
   "cell_type": "code",
   "execution_count": 15,
   "metadata": {},
   "outputs": [],
   "source": [
    "_set_graph_edge_weights(graph)"
   ]
  },
  {
   "cell_type": "code",
   "execution_count": 16,
   "metadata": {},
   "outputs": [],
   "source": [
    "G.add_edges_from(graph.edges())"
   ]
  },
  {
   "cell_type": "code",
   "execution_count": 17,
   "metadata": {},
   "outputs": [],
   "source": [
    "# import matplotlib\n",
    "# matplotlib.rcParams['figure.figsize'] = (20.0, 16.0)\n",
    "# networkx.draw_networkx(G)"
   ]
  },
  {
   "cell_type": "code",
   "execution_count": 18,
   "metadata": {},
   "outputs": [],
   "source": [
    "from summa.pagerank_weighted import pagerank_weighted_scipy as _pagerank"
   ]
  },
  {
   "cell_type": "code",
   "execution_count": 19,
   "metadata": {},
   "outputs": [],
   "source": [
    "from summa.summarizer import _remove_unreachable_nodes\n",
    "from summa.summarizer import _extract_most_important_sentences, _add_scores_to_sentences, _format_results"
   ]
  },
  {
   "cell_type": "code",
   "execution_count": 20,
   "metadata": {},
   "outputs": [],
   "source": [
    "_remove_unreachable_nodes(graph)"
   ]
  },
  {
   "cell_type": "code",
   "execution_count": 21,
   "metadata": {},
   "outputs": [],
   "source": [
    "pagerank_scores = _pagerank(graph)"
   ]
  },
  {
   "cell_type": "code",
   "execution_count": 22,
   "metadata": {},
   "outputs": [],
   "source": [
    "from lib.clean_sentences import clean_sentences\n",
    "from lib.stopwords import STOPWORDS"
   ]
  },
  {
   "cell_type": "code",
   "execution_count": 23,
   "metadata": {},
   "outputs": [
    {
     "data": {
      "text/plain": [
       "[Original unit: 'Abashakashatsi bagaragaje ko agakoko gatera igituntu kugira ngo kabeho, gakenera intungamubiri zizwi nk’ubutare (fer)' *-*-*-* Processed unit: 'abashakashatsi agakoko gatera igituntu kabeho gakenera intungamubiri zizwi ubutare fer',\n",
       " Original unit: ' Mu gihe hahagaritswe inzira ijyana ubutare aho agakoko kari, igituntu ntigishibora gukura ngo gishegeshe abantu' *-*-*-* Processed unit: 'hahagaritswe ijyana ubutare agakoko kari igituntu ntigishibora gukura gishegeshe',\n",
       " Original unit: 'Ibi byagaragaje uburyo bushya bushobora kwifashishwa n’abahanga mu gukora imiti y’igituntu no kugihashya kitarangiza abantu' *-*-*-* Processed unit: 'byagaragaje bushya bushobora kwifashishwa igituntu kugihashya kitarangiza',\n",
       " Original unit: 'Abashakashatsi bagaragaje ko iyo agakoko gatera igituntu kabuze ubutare (fer) kadashobora gukura' *-*-*-* Processed unit: 'abashakashatsi agakoko gatera igituntu kabuze ubutare fer kadashobora gukura',\n",
       " Original unit: 'Igituntu giterwa n’agakoko kazwi nka Mycobacterium tuberculosis, kandi kaboneka kenshi mu mubiri w’umuntu' *-*-*-* Processed unit: 'igituntu giterwa agakoko kazwi mycobacterium tuberculosis kaboneka mubiri',\n",
       " Original unit: 'Abashakashatsi bizeye ko ubushakashatsi bushya buzafasha mu gushaka umuti nyawo uhangana n’indwara y’igituntu' *-*-*-* Processed unit: 'abashakashatsi bizeye bushya buzafasha nyawo uhangana igituntu',\n",
       " Original unit: 'Markus Seeger, umwarimu mu ishami ry’ubuvuzi muri Kaminuza ya Zurich (UZH), akaba no mu itsinda ryakoze ubushakashatsi yavuze ko basanze ako gakoko gatera igituntu iyo kageze mu mubiri gacura utundi turemangingo intungamubiri z’ubutare' *-*-*-* Processed unit: 'markus seeger zurich uzh ryakoze basanze gakoko gatera igituntu kageze mubiri gacura utundi turemangingo intungamubiri ubutare',\n",
       " Original unit: 'Seeger yavuze ko babashije guhagarika utunyangingo duto twitwa IrtAB dutwara ubutare tubujyana mu gakoko gatera igituntu, kadashobora gukura cyangwa kakaba kanapfa, bityo igituntu ntikizahaze abantu' *-*-*-* Processed unit: 'seeger babashije utunyangingo duto twitwa irtab dutwara ubutare tubujyana gakoko gatera igituntu kadashobora gukura kakaba kanapfa igituntu ntikizahaze',\n",
       " Original unit: 'Ishami ry’Umuryango w’Abibumbye ryita ku Buzima (OMS), ryatangaje ko umwaka ushize abantu miliyoni 1' *-*-*-* Processed unit: 'ryita oms ryatangaje 1',\n",
       " Original unit: '5 bishwe n’indwara zibasira ibihaha n’igituntu kirimo' *-*-*-* Processed unit: '5 bishwe zibasira ibihaha igituntu']"
      ]
     },
     "execution_count": 23,
     "metadata": {},
     "output_type": "execute_result"
    }
   ],
   "source": [
    "clean_sentences(text_sample, STOPWORDS)"
   ]
  },
  {
   "cell_type": "code",
   "execution_count": 24,
   "metadata": {},
   "outputs": [],
   "source": [
    "def summarize_original(text, ratio=0.2, split=False, scores=False, words=None):\n",
    "    cleaned_sentences = clean_text_by_sentences(text)\n",
    "    graph = build_graph([sentence.token for sentence in cleaned_sentences])\n",
    "    _set_graph_edge_weights(graph)\n",
    "    _remove_unreachable_nodes(graph)\n",
    "    pagerank_scores = _pagerank(graph)\n",
    "    _add_scores_to_sentences(cleaned_sentences, pagerank_scores)\n",
    "    extracted_sentences = _extract_most_important_sentences(cleaned_sentences, ratio, words)\n",
    "    extracted_sentences.sort(key=lambda s: s.index)\n",
    "    return _format_results(extracted_sentences, split, scores)"
   ]
  },
  {
   "cell_type": "code",
   "execution_count": 25,
   "metadata": {},
   "outputs": [
    {
     "data": {
      "text/plain": [
       "'Abashakashatsi bagaragaje ko iyo agakoko gatera igituntu kabuze ubutare (fer) kadashobora gukura.\\nMarkus Seeger, umwarimu mu ishami ry’ubuvuzi muri Kaminuza ya Zurich (UZH), akaba no mu itsinda ryakoze ubushakashatsi yavuze ko basanze ako gakoko gatera igituntu iyo kageze mu mubiri gacura utundi turemangingo intungamubiri z’ubutare.\\nSeeger yavuze ko babashije guhagarika utunyangingo duto twitwa IrtAB dutwara ubutare tubujyana mu gakoko gatera igituntu, kadashobora gukura cyangwa kakaba kanapfa, bityo igituntu ntikizahaze abantu.'"
      ]
     },
     "execution_count": 25,
     "metadata": {},
     "output_type": "execute_result"
    }
   ],
   "source": [
    "summarize_original(text_sample, 0.3)"
   ]
  },
  {
   "cell_type": "code",
   "execution_count": 26,
   "metadata": {},
   "outputs": [],
   "source": [
    "def summarize_custom(text, ratio=0.3, split=False, scores=False, words=None, stopwords=None):\n",
    "    cleaned_sentences = clean_sentences(text, stopwords=stopwords)\n",
    "    graph = build_graph([sentence.token for sentence in cleaned_sentences])\n",
    "    _set_graph_edge_weights(graph)\n",
    "    _remove_unreachable_nodes(graph)\n",
    "    pagerank_scores = _pagerank(graph)\n",
    "    _add_scores_to_sentences(cleaned_sentences, pagerank_scores)\n",
    "    extracted_sentences = _extract_most_important_sentences(cleaned_sentences, ratio, words)\n",
    "    extracted_sentences.sort(key=lambda s: s.index)\n",
    "    return _format_results(extracted_sentences, split, scores)"
   ]
  },
  {
   "cell_type": "code",
   "execution_count": 27,
   "metadata": {},
   "outputs": [
    {
     "data": {
      "text/plain": [
       "'Abashakashatsi bagaragaje ko agakoko gatera igituntu kugira ngo kabeho, gakenera intungamubiri zizwi nk’ubutare (fer)\\n Mu gihe hahagaritswe inzira ijyana ubutare aho agakoko kari, igituntu ntigishibora gukura ngo gishegeshe abantu\\nAbashakashatsi bagaragaje ko iyo agakoko gatera igituntu kabuze ubutare (fer) kadashobora gukura\\nSeeger yavuze ko babashije guhagarika utunyangingo duto twitwa IrtAB dutwara ubutare tubujyana mu gakoko gatera igituntu, kadashobora gukura cyangwa kakaba kanapfa, bityo igituntu ntikizahaze abantu'"
      ]
     },
     "execution_count": 27,
     "metadata": {},
     "output_type": "execute_result"
    }
   ],
   "source": [
    "summarize_custom(text_sample, 0.4, stopwords=STOPWORDS)"
   ]
  },
  {
   "cell_type": "code",
   "execution_count": 28,
   "metadata": {},
   "outputs": [],
   "source": [
    "text_sample2 = df['Body'][750]"
   ]
  },
  {
   "cell_type": "code",
   "execution_count": 29,
   "metadata": {},
   "outputs": [
    {
     "data": {
      "text/plain": [
       "'\\n\\nKu rubuga www.biocoiff.com bavuga ko ibumba ry’icyatsi ari ikintu cy’umwimerere bakura ku rutare ruvungagurika, rikaba rikoreshwa akenshi nk’umuti cyangwa se mu bijyanye no kwita ku ruhu.\\nIbumba ry’icyatsi rikize ku butare butandukanye nka “fer” yongera amaraso, hakabamo na potassium, sodium, calcium na magnésium.\\nHabaho ubwoko butandukanye bw’ibumba, rishobora kandi kugira amabara atandukanye bitewe n’aho ryavuye, gusa ibumba ryose umuntu yahitamo riba ryifitemo ikitwa “silice”, iyo silice rero igira uruhare rukomeye mu gufasha umubiri w’umuntu gukora neza.\\nIkindi kandi silice igira uruhare mu gukomeza imisokoro no mu ngingo (articulations), silice kandi ituma uruhu rw’umuntu rugira ubuzima bwiza, igakomeza amenyo n’inzara, imisatsi, imitsi ndetse n’amagufa.\\nSilice iboneka mu ibumba ry’icyatsi kandi, ifasha ubudahangarwa bw’umubiri gukora neza.\\nIbumba ry’icyatsi rikoreshwa cyane cyane mu kwita ku ruhu rwo mu maso, rigafasha cyane abagira uruhu rwo mu maso ruyaga, aho bavanga ibumba n’amazi bikamera nk’igikoma gifashe, nyuma bakagisiga mu maso kugira ngo bifashe uruhu kumera neza.\\nMu byiza by’ibumba ry’icyatsi, harimo kuba ryomora aho umuntu yakomeretse, rigasohora imyanda mu mubiri ndetse rikica tumwe mu dukoko twitwa “bacteria”; rivura kandi impiswi n’ibindi.\\nIbumba ry’icyatsi kandi ryifashishwa mu kwita ku musatsi ndetse no mu gukesha amenyo.\\nIbumba ry’icyatsi mu gihe ribitswe neza, ahantu hatari ubukonje bukabije cyangwa urumuri rwinshi, ntirisaza.\\nKuko ibumba ari ikintu gifite imbaraga nyinshi, ni ikintu cyo kwitonderwa cyane cyane kurikoresha mu mubiri imbere. Ibumba ry’icyatsi rishobora kubuza indi miti gukora akazi kayo mu mubiri. Ikindi kandi ntiriribwa cyangwa ngo rinyobwe n’abana bato, ndetse n’abagore batwite ntibabyemerewe.\\nKu rubuga www.santemagazine.fr bavuga ko ibumba ry’icyatsi rifasha mu kugabanya ububabare.\\nBavuga ko umuntu afata ibumba ry’icyatsi (ifu), akayivanga n’amazi ashyushye macye, agakoroga kugeza bibaye nk’icyondo, agashyira ku gatambaro nyuma akarisiga aho ababara.\\nIyo amaze kurisiga ahababa agomba gutegereza nibura isaha n’igice cyangwa abiri, kugira ngo ryume neza nyuma akaba yarikaraba, ububabare bukagabanuka.\\nUmunyamakuru wa Kigali Today\\n@ umureremedia\\n'"
      ]
     },
     "execution_count": 29,
     "metadata": {},
     "output_type": "execute_result"
    }
   ],
   "source": [
    "text_sample2"
   ]
  },
  {
   "cell_type": "code",
   "execution_count": 30,
   "metadata": {},
   "outputs": [
    {
     "data": {
      "text/plain": [
       "'Ibumba ry’icyatsi rikoreshwa cyane cyane mu kwita ku ruhu rwo mu maso, rigafasha cyane abagira uruhu rwo mu maso ruyaga, aho bavanga ibumba n’amazi bikamera nk’igikoma gifashe, nyuma bakagisiga mu maso kugira ngo bifashe uruhu kumera neza.\\nIbumba ry’icyatsi kandi ryifashishwa mu kwita ku musatsi ndetse no mu gukesha amenyo.'"
      ]
     },
     "execution_count": 30,
     "metadata": {},
     "output_type": "execute_result"
    }
   ],
   "source": [
    "summarize_custom(text_sample2, words=50)"
   ]
  },
  {
   "cell_type": "code",
   "execution_count": 31,
   "metadata": {},
   "outputs": [
    {
     "data": {
      "text/plain": [
       "'Uwahoze ari myugariro w’Ikipe y’Igihugu Amavubi, Nshimiyimana Canisius, yavuze ko ubwo Amavubi yakinaga n’Ikipe y’Igihugu ya Tunisia mu Gikombe cya Afurika cya 2004, we na bagenzi be bagize ubwoba bwo gusohoka muri Stade ya Radès ngo bajye kwishyushya.'"
      ]
     },
     "execution_count": 31,
     "metadata": {},
     "output_type": "execute_result"
    }
   ],
   "source": [
    "summarize_original(text_sample2, words=50)"
   ]
  },
  {
   "cell_type": "code",
   "execution_count": null,
   "metadata": {},
   "outputs": [],
   "source": []
  },
  {
   "cell_type": "code",
   "execution_count": null,
   "metadata": {},
   "outputs": [],
   "source": []
  }
 ],
 "metadata": {
  "kernelspec": {
   "display_name": "Python 3",
   "language": "python",
   "name": "python3"
  },
  "language_info": {
   "codemirror_mode": {
    "name": "ipython",
    "version": 3
   },
   "file_extension": ".py",
   "mimetype": "text/x-python",
   "name": "python",
   "nbconvert_exporter": "python",
   "pygments_lexer": "ipython3",
   "version": "3.7.6"
  }
 },
 "nbformat": 4,
 "nbformat_minor": 4
}
